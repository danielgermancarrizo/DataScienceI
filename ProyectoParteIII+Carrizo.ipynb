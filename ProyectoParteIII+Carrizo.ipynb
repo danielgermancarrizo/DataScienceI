{
  "nbformat": 4,
  "nbformat_minor": 0,
  "metadata": {
    "colab": {
      "provenance": []
    },
    "kernelspec": {
      "name": "python3",
      "display_name": "Python 3"
    },
    "language_info": {
      "name": "python"
    }
  },
  "cells": [
    {
      "cell_type": "markdown",
      "source": [
        "## Introducción\n",
        "##### La problemática de la inasistencia a citas médicas es un desafío multifacético en el sector de la salud.\n",
        "\n",
        "La falta de asistencia no solo afecta negativamente la continuidad del cuidado del paciente, lo que puede llevar al empeoramiento de condiciones médicas crónicas, sino que también genera un impacto económico y operativo significativo para las instituciones.\n",
        "\n",
        "La vacante de un turno no notificado resulta en una pérdida de recursos del profesional y en una oportunidad desaprovechada para reasignar ese espacio a otro paciente.\n",
        "\n",
        "Para abordar este problema, el presente estudio se centra en el análisis de un conjunto de datos obtenido de kaggle que explora la relación entre diversas variables y la probabilidad de que un paciente no se presente a su cita.\n",
        "\n",
        "Este análisis se basa en la experiencia previa en la gestión de sistemas de turnos médicos, que ha evidenciado la criticidad de esta problemática.\n",
        "\n",
        "El objetivo principal de este trabajo es identificar los factores clave que influyen en el comportamiento de asistencia del paciente.\n",
        "\n",
        "A través de la exploración de variables sociodemográficas, clínicas y de comunicación, se busca generar insights que permitan desarrollar un modelo predictivo.\n",
        "\n",
        "Este modelo tiene el potencial de mitigar el impacto negativo de las inasistencias, optimizando la asignación de recursos médicos y mejorando la calidad del servicio ofrecido en las instituciones de salud.\n",
        "\n",
        "## Enfoque de la primera entrega\n",
        "##### En esta primera etapa, el análisis se centrará en la exploración de datos a través de resúmenes numéricos y visualizaciones.\n",
        "\n",
        "El objetivo no es desarrollar un modelo predictivo todavía, sino comprender la estructura de la información, identificar la presencia de valores atípicos y valores perdidos, y generar las primeras hipótesis.\n",
        "\n",
        "Se realizarán visualizaciones univariadas, bivariadas y multivariadas para diagnosticar la forma de las variables y su relación, sentando así las bases para la fase de modelado en futuras entregas.\n"
      ],
      "metadata": {
        "id": "YJfZLY3hAzL9"
      }
    },
    {
      "cell_type": "markdown",
      "source": [],
      "metadata": {
        "id": "MFKuiyjvDt1c"
      }
    },
    {
      "cell_type": "markdown",
      "source": [
        "##Fuente de datos utilizada\n",
        "La fuente de datos fue extraida del siguiente enlace: https://www.kaggle.com/datasets/joniarroba/noshowappointments"
      ],
      "metadata": {
        "id": "0uN1QEcqEBg-"
      }
    },
    {
      "cell_type": "markdown",
      "source": [],
      "metadata": {
        "id": "-WlgxrHwFT55"
      }
    },
    {
      "cell_type": "markdown",
      "source": [
        "##Objetivo\n",
        "##### Identificar los factores que influyen en la ausencia de los pacientes a sus turnos programados.\n",
        "\n",
        "## Hipótesis\n",
        "\n",
        "1. La tasa de inasistencia por cita es significativamente menor cuando se ha recibido un mensaje de texto (SMS) de recordatorio.\n",
        "2. Los pacientes de los grupos de edad extremos (jóvenes y mayores) tienen una tasa de inasistencia más alta que la de los pacientes del grupo de edad intermedio.\n",
        "3. Los pacientes que reciben la beca de estudio (Scholarship) tienen una mayor tasa de inasistencia."
      ],
      "metadata": {
        "id": "SCdxlDjRFX3v"
      }
    },
    {
      "cell_type": "code",
      "source": [
        "import pandas as pd\n",
        "\n",
        "# Cargar el archivo CSV en df que es la variable que contiene el dataframe.\n",
        "df = pd.read_csv('Appointments2016.csv')\n",
        "# Muestro las primeras diez filas del dataframe para garantizar la lectura.\n",
        "df.head(10)"
      ],
      "metadata": {
        "colab": {
          "base_uri": "https://localhost:8080/",
          "height": 574
        },
        "id": "JmtobnMwGnaJ",
        "outputId": "e364424f-2ae3-4e58-f607-6708a9ed0d28"
      },
      "execution_count": 92,
      "outputs": [
        {
          "output_type": "execute_result",
          "data": {
            "text/plain": [
              "      PatientId  AppointmentID Gender          ScheduledDay  \\\n",
              "0  2.987250e+13        5642903      F  2016-04-29T18:38:08Z   \n",
              "1  5.589978e+14        5642503      M  2016-04-29T16:08:27Z   \n",
              "2  4.262962e+12        5642549      F  2016-04-29T16:19:04Z   \n",
              "3  8.679512e+11        5642828      F  2016-04-29T17:29:31Z   \n",
              "4  8.841186e+12        5642494      F  2016-04-29T16:07:23Z   \n",
              "5  9.598513e+13        5626772      F  2016-04-27T08:36:51Z   \n",
              "6  7.336882e+14        5630279      F  2016-04-27T15:05:12Z   \n",
              "7  3.449833e+12        5630575      F  2016-04-27T15:39:58Z   \n",
              "8  5.639473e+13        5638447      F  2016-04-29T08:02:16Z   \n",
              "9  7.812456e+13        5629123      F  2016-04-27T12:48:25Z   \n",
              "\n",
              "         AppointmentDay  Age      Neighbourhood  Scholarship  Hipertension  \\\n",
              "0  2016-04-29T00:00:00Z   62    JARDIM DA PENHA            0             1   \n",
              "1  2016-04-29T00:00:00Z   56    JARDIM DA PENHA            0             0   \n",
              "2  2016-04-29T00:00:00Z   62      MATA DA PRAIA            0             0   \n",
              "3  2016-04-29T00:00:00Z    8  PONTAL DE CAMBURI            0             0   \n",
              "4  2016-04-29T00:00:00Z   56    JARDIM DA PENHA            0             1   \n",
              "5  2016-04-29T00:00:00Z   76          REPÚBLICA            0             1   \n",
              "6  2016-04-29T00:00:00Z   23         GOIABEIRAS            0             0   \n",
              "7  2016-04-29T00:00:00Z   39         GOIABEIRAS            0             0   \n",
              "8  2016-04-29T00:00:00Z   21         ANDORINHAS            0             0   \n",
              "9  2016-04-29T00:00:00Z   19          CONQUISTA            0             0   \n",
              "\n",
              "   Diabetes  Alcoholism  Handcap  SMS_received No-show  \n",
              "0         0           0        0             0      No  \n",
              "1         0           0        0             0      No  \n",
              "2         0           0        0             0      No  \n",
              "3         0           0        0             0      No  \n",
              "4         1           0        0             0      No  \n",
              "5         0           0        0             0      No  \n",
              "6         0           0        0             0     Yes  \n",
              "7         0           0        0             0     Yes  \n",
              "8         0           0        0             0      No  \n",
              "9         0           0        0             0      No  "
            ],
            "text/html": [
              "\n",
              "  <div id=\"df-acee64a2-7c7b-400c-bd6a-1558603300af\" class=\"colab-df-container\">\n",
              "    <div>\n",
              "<style scoped>\n",
              "    .dataframe tbody tr th:only-of-type {\n",
              "        vertical-align: middle;\n",
              "    }\n",
              "\n",
              "    .dataframe tbody tr th {\n",
              "        vertical-align: top;\n",
              "    }\n",
              "\n",
              "    .dataframe thead th {\n",
              "        text-align: right;\n",
              "    }\n",
              "</style>\n",
              "<table border=\"1\" class=\"dataframe\">\n",
              "  <thead>\n",
              "    <tr style=\"text-align: right;\">\n",
              "      <th></th>\n",
              "      <th>PatientId</th>\n",
              "      <th>AppointmentID</th>\n",
              "      <th>Gender</th>\n",
              "      <th>ScheduledDay</th>\n",
              "      <th>AppointmentDay</th>\n",
              "      <th>Age</th>\n",
              "      <th>Neighbourhood</th>\n",
              "      <th>Scholarship</th>\n",
              "      <th>Hipertension</th>\n",
              "      <th>Diabetes</th>\n",
              "      <th>Alcoholism</th>\n",
              "      <th>Handcap</th>\n",
              "      <th>SMS_received</th>\n",
              "      <th>No-show</th>\n",
              "    </tr>\n",
              "  </thead>\n",
              "  <tbody>\n",
              "    <tr>\n",
              "      <th>0</th>\n",
              "      <td>2.987250e+13</td>\n",
              "      <td>5642903</td>\n",
              "      <td>F</td>\n",
              "      <td>2016-04-29T18:38:08Z</td>\n",
              "      <td>2016-04-29T00:00:00Z</td>\n",
              "      <td>62</td>\n",
              "      <td>JARDIM DA PENHA</td>\n",
              "      <td>0</td>\n",
              "      <td>1</td>\n",
              "      <td>0</td>\n",
              "      <td>0</td>\n",
              "      <td>0</td>\n",
              "      <td>0</td>\n",
              "      <td>No</td>\n",
              "    </tr>\n",
              "    <tr>\n",
              "      <th>1</th>\n",
              "      <td>5.589978e+14</td>\n",
              "      <td>5642503</td>\n",
              "      <td>M</td>\n",
              "      <td>2016-04-29T16:08:27Z</td>\n",
              "      <td>2016-04-29T00:00:00Z</td>\n",
              "      <td>56</td>\n",
              "      <td>JARDIM DA PENHA</td>\n",
              "      <td>0</td>\n",
              "      <td>0</td>\n",
              "      <td>0</td>\n",
              "      <td>0</td>\n",
              "      <td>0</td>\n",
              "      <td>0</td>\n",
              "      <td>No</td>\n",
              "    </tr>\n",
              "    <tr>\n",
              "      <th>2</th>\n",
              "      <td>4.262962e+12</td>\n",
              "      <td>5642549</td>\n",
              "      <td>F</td>\n",
              "      <td>2016-04-29T16:19:04Z</td>\n",
              "      <td>2016-04-29T00:00:00Z</td>\n",
              "      <td>62</td>\n",
              "      <td>MATA DA PRAIA</td>\n",
              "      <td>0</td>\n",
              "      <td>0</td>\n",
              "      <td>0</td>\n",
              "      <td>0</td>\n",
              "      <td>0</td>\n",
              "      <td>0</td>\n",
              "      <td>No</td>\n",
              "    </tr>\n",
              "    <tr>\n",
              "      <th>3</th>\n",
              "      <td>8.679512e+11</td>\n",
              "      <td>5642828</td>\n",
              "      <td>F</td>\n",
              "      <td>2016-04-29T17:29:31Z</td>\n",
              "      <td>2016-04-29T00:00:00Z</td>\n",
              "      <td>8</td>\n",
              "      <td>PONTAL DE CAMBURI</td>\n",
              "      <td>0</td>\n",
              "      <td>0</td>\n",
              "      <td>0</td>\n",
              "      <td>0</td>\n",
              "      <td>0</td>\n",
              "      <td>0</td>\n",
              "      <td>No</td>\n",
              "    </tr>\n",
              "    <tr>\n",
              "      <th>4</th>\n",
              "      <td>8.841186e+12</td>\n",
              "      <td>5642494</td>\n",
              "      <td>F</td>\n",
              "      <td>2016-04-29T16:07:23Z</td>\n",
              "      <td>2016-04-29T00:00:00Z</td>\n",
              "      <td>56</td>\n",
              "      <td>JARDIM DA PENHA</td>\n",
              "      <td>0</td>\n",
              "      <td>1</td>\n",
              "      <td>1</td>\n",
              "      <td>0</td>\n",
              "      <td>0</td>\n",
              "      <td>0</td>\n",
              "      <td>No</td>\n",
              "    </tr>\n",
              "    <tr>\n",
              "      <th>5</th>\n",
              "      <td>9.598513e+13</td>\n",
              "      <td>5626772</td>\n",
              "      <td>F</td>\n",
              "      <td>2016-04-27T08:36:51Z</td>\n",
              "      <td>2016-04-29T00:00:00Z</td>\n",
              "      <td>76</td>\n",
              "      <td>REPÚBLICA</td>\n",
              "      <td>0</td>\n",
              "      <td>1</td>\n",
              "      <td>0</td>\n",
              "      <td>0</td>\n",
              "      <td>0</td>\n",
              "      <td>0</td>\n",
              "      <td>No</td>\n",
              "    </tr>\n",
              "    <tr>\n",
              "      <th>6</th>\n",
              "      <td>7.336882e+14</td>\n",
              "      <td>5630279</td>\n",
              "      <td>F</td>\n",
              "      <td>2016-04-27T15:05:12Z</td>\n",
              "      <td>2016-04-29T00:00:00Z</td>\n",
              "      <td>23</td>\n",
              "      <td>GOIABEIRAS</td>\n",
              "      <td>0</td>\n",
              "      <td>0</td>\n",
              "      <td>0</td>\n",
              "      <td>0</td>\n",
              "      <td>0</td>\n",
              "      <td>0</td>\n",
              "      <td>Yes</td>\n",
              "    </tr>\n",
              "    <tr>\n",
              "      <th>7</th>\n",
              "      <td>3.449833e+12</td>\n",
              "      <td>5630575</td>\n",
              "      <td>F</td>\n",
              "      <td>2016-04-27T15:39:58Z</td>\n",
              "      <td>2016-04-29T00:00:00Z</td>\n",
              "      <td>39</td>\n",
              "      <td>GOIABEIRAS</td>\n",
              "      <td>0</td>\n",
              "      <td>0</td>\n",
              "      <td>0</td>\n",
              "      <td>0</td>\n",
              "      <td>0</td>\n",
              "      <td>0</td>\n",
              "      <td>Yes</td>\n",
              "    </tr>\n",
              "    <tr>\n",
              "      <th>8</th>\n",
              "      <td>5.639473e+13</td>\n",
              "      <td>5638447</td>\n",
              "      <td>F</td>\n",
              "      <td>2016-04-29T08:02:16Z</td>\n",
              "      <td>2016-04-29T00:00:00Z</td>\n",
              "      <td>21</td>\n",
              "      <td>ANDORINHAS</td>\n",
              "      <td>0</td>\n",
              "      <td>0</td>\n",
              "      <td>0</td>\n",
              "      <td>0</td>\n",
              "      <td>0</td>\n",
              "      <td>0</td>\n",
              "      <td>No</td>\n",
              "    </tr>\n",
              "    <tr>\n",
              "      <th>9</th>\n",
              "      <td>7.812456e+13</td>\n",
              "      <td>5629123</td>\n",
              "      <td>F</td>\n",
              "      <td>2016-04-27T12:48:25Z</td>\n",
              "      <td>2016-04-29T00:00:00Z</td>\n",
              "      <td>19</td>\n",
              "      <td>CONQUISTA</td>\n",
              "      <td>0</td>\n",
              "      <td>0</td>\n",
              "      <td>0</td>\n",
              "      <td>0</td>\n",
              "      <td>0</td>\n",
              "      <td>0</td>\n",
              "      <td>No</td>\n",
              "    </tr>\n",
              "  </tbody>\n",
              "</table>\n",
              "</div>\n",
              "    <div class=\"colab-df-buttons\">\n",
              "\n",
              "  <div class=\"colab-df-container\">\n",
              "    <button class=\"colab-df-convert\" onclick=\"convertToInteractive('df-acee64a2-7c7b-400c-bd6a-1558603300af')\"\n",
              "            title=\"Convert this dataframe to an interactive table.\"\n",
              "            style=\"display:none;\">\n",
              "\n",
              "  <svg xmlns=\"http://www.w3.org/2000/svg\" height=\"24px\" viewBox=\"0 -960 960 960\">\n",
              "    <path d=\"M120-120v-720h720v720H120Zm60-500h600v-160H180v160Zm220 220h160v-160H400v160Zm0 220h160v-160H400v160ZM180-400h160v-160H180v160Zm440 0h160v-160H620v160ZM180-180h160v-160H180v160Zm440 0h160v-160H620v160Z\"/>\n",
              "  </svg>\n",
              "    </button>\n",
              "\n",
              "  <style>\n",
              "    .colab-df-container {\n",
              "      display:flex;\n",
              "      gap: 12px;\n",
              "    }\n",
              "\n",
              "    .colab-df-convert {\n",
              "      background-color: #E8F0FE;\n",
              "      border: none;\n",
              "      border-radius: 50%;\n",
              "      cursor: pointer;\n",
              "      display: none;\n",
              "      fill: #1967D2;\n",
              "      height: 32px;\n",
              "      padding: 0 0 0 0;\n",
              "      width: 32px;\n",
              "    }\n",
              "\n",
              "    .colab-df-convert:hover {\n",
              "      background-color: #E2EBFA;\n",
              "      box-shadow: 0px 1px 2px rgba(60, 64, 67, 0.3), 0px 1px 3px 1px rgba(60, 64, 67, 0.15);\n",
              "      fill: #174EA6;\n",
              "    }\n",
              "\n",
              "    .colab-df-buttons div {\n",
              "      margin-bottom: 4px;\n",
              "    }\n",
              "\n",
              "    [theme=dark] .colab-df-convert {\n",
              "      background-color: #3B4455;\n",
              "      fill: #D2E3FC;\n",
              "    }\n",
              "\n",
              "    [theme=dark] .colab-df-convert:hover {\n",
              "      background-color: #434B5C;\n",
              "      box-shadow: 0px 1px 3px 1px rgba(0, 0, 0, 0.15);\n",
              "      filter: drop-shadow(0px 1px 2px rgba(0, 0, 0, 0.3));\n",
              "      fill: #FFFFFF;\n",
              "    }\n",
              "  </style>\n",
              "\n",
              "    <script>\n",
              "      const buttonEl =\n",
              "        document.querySelector('#df-acee64a2-7c7b-400c-bd6a-1558603300af button.colab-df-convert');\n",
              "      buttonEl.style.display =\n",
              "        google.colab.kernel.accessAllowed ? 'block' : 'none';\n",
              "\n",
              "      async function convertToInteractive(key) {\n",
              "        const element = document.querySelector('#df-acee64a2-7c7b-400c-bd6a-1558603300af');\n",
              "        const dataTable =\n",
              "          await google.colab.kernel.invokeFunction('convertToInteractive',\n",
              "                                                    [key], {});\n",
              "        if (!dataTable) return;\n",
              "\n",
              "        const docLinkHtml = 'Like what you see? Visit the ' +\n",
              "          '<a target=\"_blank\" href=https://colab.research.google.com/notebooks/data_table.ipynb>data table notebook</a>'\n",
              "          + ' to learn more about interactive tables.';\n",
              "        element.innerHTML = '';\n",
              "        dataTable['output_type'] = 'display_data';\n",
              "        await google.colab.output.renderOutput(dataTable, element);\n",
              "        const docLink = document.createElement('div');\n",
              "        docLink.innerHTML = docLinkHtml;\n",
              "        element.appendChild(docLink);\n",
              "      }\n",
              "    </script>\n",
              "  </div>\n",
              "\n",
              "\n",
              "    <div id=\"df-d7c1ac56-1634-4c24-8476-9493ba5bc41e\">\n",
              "      <button class=\"colab-df-quickchart\" onclick=\"quickchart('df-d7c1ac56-1634-4c24-8476-9493ba5bc41e')\"\n",
              "                title=\"Suggest charts\"\n",
              "                style=\"display:none;\">\n",
              "\n",
              "<svg xmlns=\"http://www.w3.org/2000/svg\" height=\"24px\"viewBox=\"0 0 24 24\"\n",
              "     width=\"24px\">\n",
              "    <g>\n",
              "        <path d=\"M19 3H5c-1.1 0-2 .9-2 2v14c0 1.1.9 2 2 2h14c1.1 0 2-.9 2-2V5c0-1.1-.9-2-2-2zM9 17H7v-7h2v7zm4 0h-2V7h2v10zm4 0h-2v-4h2v4z\"/>\n",
              "    </g>\n",
              "</svg>\n",
              "      </button>\n",
              "\n",
              "<style>\n",
              "  .colab-df-quickchart {\n",
              "      --bg-color: #E8F0FE;\n",
              "      --fill-color: #1967D2;\n",
              "      --hover-bg-color: #E2EBFA;\n",
              "      --hover-fill-color: #174EA6;\n",
              "      --disabled-fill-color: #AAA;\n",
              "      --disabled-bg-color: #DDD;\n",
              "  }\n",
              "\n",
              "  [theme=dark] .colab-df-quickchart {\n",
              "      --bg-color: #3B4455;\n",
              "      --fill-color: #D2E3FC;\n",
              "      --hover-bg-color: #434B5C;\n",
              "      --hover-fill-color: #FFFFFF;\n",
              "      --disabled-bg-color: #3B4455;\n",
              "      --disabled-fill-color: #666;\n",
              "  }\n",
              "\n",
              "  .colab-df-quickchart {\n",
              "    background-color: var(--bg-color);\n",
              "    border: none;\n",
              "    border-radius: 50%;\n",
              "    cursor: pointer;\n",
              "    display: none;\n",
              "    fill: var(--fill-color);\n",
              "    height: 32px;\n",
              "    padding: 0;\n",
              "    width: 32px;\n",
              "  }\n",
              "\n",
              "  .colab-df-quickchart:hover {\n",
              "    background-color: var(--hover-bg-color);\n",
              "    box-shadow: 0 1px 2px rgba(60, 64, 67, 0.3), 0 1px 3px 1px rgba(60, 64, 67, 0.15);\n",
              "    fill: var(--button-hover-fill-color);\n",
              "  }\n",
              "\n",
              "  .colab-df-quickchart-complete:disabled,\n",
              "  .colab-df-quickchart-complete:disabled:hover {\n",
              "    background-color: var(--disabled-bg-color);\n",
              "    fill: var(--disabled-fill-color);\n",
              "    box-shadow: none;\n",
              "  }\n",
              "\n",
              "  .colab-df-spinner {\n",
              "    border: 2px solid var(--fill-color);\n",
              "    border-color: transparent;\n",
              "    border-bottom-color: var(--fill-color);\n",
              "    animation:\n",
              "      spin 1s steps(1) infinite;\n",
              "  }\n",
              "\n",
              "  @keyframes spin {\n",
              "    0% {\n",
              "      border-color: transparent;\n",
              "      border-bottom-color: var(--fill-color);\n",
              "      border-left-color: var(--fill-color);\n",
              "    }\n",
              "    20% {\n",
              "      border-color: transparent;\n",
              "      border-left-color: var(--fill-color);\n",
              "      border-top-color: var(--fill-color);\n",
              "    }\n",
              "    30% {\n",
              "      border-color: transparent;\n",
              "      border-left-color: var(--fill-color);\n",
              "      border-top-color: var(--fill-color);\n",
              "      border-right-color: var(--fill-color);\n",
              "    }\n",
              "    40% {\n",
              "      border-color: transparent;\n",
              "      border-right-color: var(--fill-color);\n",
              "      border-top-color: var(--fill-color);\n",
              "    }\n",
              "    60% {\n",
              "      border-color: transparent;\n",
              "      border-right-color: var(--fill-color);\n",
              "    }\n",
              "    80% {\n",
              "      border-color: transparent;\n",
              "      border-right-color: var(--fill-color);\n",
              "      border-bottom-color: var(--fill-color);\n",
              "    }\n",
              "    90% {\n",
              "      border-color: transparent;\n",
              "      border-bottom-color: var(--fill-color);\n",
              "    }\n",
              "  }\n",
              "</style>\n",
              "\n",
              "      <script>\n",
              "        async function quickchart(key) {\n",
              "          const quickchartButtonEl =\n",
              "            document.querySelector('#' + key + ' button');\n",
              "          quickchartButtonEl.disabled = true;  // To prevent multiple clicks.\n",
              "          quickchartButtonEl.classList.add('colab-df-spinner');\n",
              "          try {\n",
              "            const charts = await google.colab.kernel.invokeFunction(\n",
              "                'suggestCharts', [key], {});\n",
              "          } catch (error) {\n",
              "            console.error('Error during call to suggestCharts:', error);\n",
              "          }\n",
              "          quickchartButtonEl.classList.remove('colab-df-spinner');\n",
              "          quickchartButtonEl.classList.add('colab-df-quickchart-complete');\n",
              "        }\n",
              "        (() => {\n",
              "          let quickchartButtonEl =\n",
              "            document.querySelector('#df-d7c1ac56-1634-4c24-8476-9493ba5bc41e button');\n",
              "          quickchartButtonEl.style.display =\n",
              "            google.colab.kernel.accessAllowed ? 'block' : 'none';\n",
              "        })();\n",
              "      </script>\n",
              "    </div>\n",
              "\n",
              "    </div>\n",
              "  </div>\n"
            ],
            "application/vnd.google.colaboratory.intrinsic+json": {
              "type": "dataframe",
              "variable_name": "df"
            }
          },
          "metadata": {},
          "execution_count": 92
        }
      ]
    },
    {
      "cell_type": "markdown",
      "source": [
        "## Descripción del Dataset\n",
        "\n",
        "**Columna: PatientId**\n",
        "\n",
        "Descripción: Identificador único del paciente. Es un número flotante que identifica a cada individuo en el conjunto de datos.\n",
        "\n",
        "**Columna: AppointmentID**\n",
        "\n",
        "Descripción: Identificador único para cada cita médica. Es un número entero que distingue cada turno programado.\n",
        "\n",
        "**Columna: Gender**\n",
        "\n",
        "Descripción: Sexo del paciente. Contiene datos categóricos que indican si el paciente es 'F' (femenino) o 'M' (masculino).\n",
        "\n",
        "**Columna: ScheduledDay**\n",
        "\n",
        "Descripción: Fecha y hora en que se programó la cita. Los datos están en formato de fecha y hora, pero actualmente están guardados como texto.\n",
        "\n",
        "**Columna: AppointmentDay**\n",
        "\n",
        "Descripción: Fecha de la cita programada. Al igual que la columna anterior, los datos están en formato de fecha y hora, pero se guardan como texto.\n",
        "\n",
        "**Columna: Age**\n",
        "\n",
        "Descripción: Edad del paciente. Es un número entero que indica la edad del paciente en años.\n",
        "\n",
        "**Columna: Neighbourhood**\n",
        "\n",
        "Descripción: Barrio donde se ubica la clínica. Contiene datos categóricos con el nombre del barrio como una cadena de texto.\n",
        "\n",
        "**Columna: Scholarship**\n",
        "\n",
        "Descripción: Indica si el paciente está inscrito en el programa de becas. Es un valor binario: 0 (no) o 1 (sí).\n",
        "\n",
        "**Columna: Hipertension**\n",
        "\n",
        "Descripción: Indica si el paciente padece de hipertensión. Es un valor binario: 0 (no) o 1 (sí).\n",
        "\n",
        "**Columna: Diabetes**\n",
        "\n",
        "Descripción: Indica si el paciente padece de diabetes. Es un valor binario: 0 (no) o 1 (sí).\n",
        "\n",
        "**Columna: Alcoholism**\n",
        "\n",
        "Descripción: Indica si el paciente tiene antecedentes de alcoholismo. Es un valor binario: 0 (no) o 1 (sí).\n",
        "\n",
        "**Columna: Handcap**\n",
        "\n",
        "Descripción: Indica si el paciente tiene alguna discapacidad. Es un valor binario: 0 (no) o 1 (sí).\n",
        "\n",
        "**Columna: SMS_received**\n",
        "\n",
        "Descripción: Indica si el paciente recibió un SMS de recordatorio. Es un valor binario: 0 (no) o 1 (sí).\n",
        "\n",
        "**Columna: No-show**\n",
        "\n",
        "Descripción: La variable objetivo del análisis. Contiene datos categóricos que indican si el paciente no asistió a su cita: 'No' (asistió) o 'Yes' (no asistió)."
      ],
      "metadata": {
        "id": "RSA1RJoOM099"
      }
    },
    {
      "cell_type": "markdown",
      "source": [
        "##Análisis Exploratorio de Datos (EDA)\n",
        "1. Diagnóstico y Preparación de los Datos.\n",
        "Esta es la fase de inspección y limpieza para asegurar la calidad y estructura de los datos.\n",
        "\n",
        "\n",
        "Verificación de la estructura y tipos de datos: Revisa la salida de df.info() para asegurarte de que cada columna tiene el tipo de dato correcto. Es un hallazgo importante si columnas que contienen fechas (\n",
        "\n",
        "ScheduledDay, AppointmentDay) están en formato de texto (object), ya que deberás convertirlas para poder analizarlas como series de tiempo.\n",
        "\n",
        "\n",
        "Detección de anomalías y outliers: Utiliza df.describe() para obtener un resumen estadístico de tus variables numéricas. Revisa los valores mínimos y máximos para identificar anomalías lógicas, como una edad de\n",
        "\n",
        "\n",
        "-1 o un valor de Handcap mayor a 1, que son errores que deben ser tratados.\n",
        "\n",
        "\n",
        "Identificación de valores perdidos: Aunque en tu dataset ya vimos que no hay valores ausentes, en esta fase deberías usar .isnull().sum() para confirmar si existen datos faltantes y reportar cuántos hay por columna.\n",
        "\n",
        "\n"
      ],
      "metadata": {
        "id": "uzFMSosJPB2l"
      }
    },
    {
      "cell_type": "code",
      "source": [
        "# Primero realizo un análisis de los nombres de las columnas.\n",
        "# Procedo a renombrar la columna No-show, cambiando a guión bajo.\n",
        "\n",
        "df.rename(columns={'No-show': 'No_show'}, inplace=True)\n",
        "\n",
        "# Verifico que el nombre de la columna haya cambiado.\n",
        "print(df.columns)"
      ],
      "metadata": {
        "colab": {
          "base_uri": "https://localhost:8080/"
        },
        "id": "xTMZ_MNTRmTs",
        "outputId": "a080cc37-33ef-4b6f-89dd-89ebf6faa439"
      },
      "execution_count": 93,
      "outputs": [
        {
          "output_type": "stream",
          "name": "stdout",
          "text": [
            "Index(['PatientId', 'AppointmentID', 'Gender', 'ScheduledDay',\n",
            "       'AppointmentDay', 'Age', 'Neighbourhood', 'Scholarship', 'Hipertension',\n",
            "       'Diabetes', 'Alcoholism', 'Handcap', 'SMS_received', 'No_show'],\n",
            "      dtype='object')\n"
          ]
        }
      ]
    },
    {
      "cell_type": "code",
      "source": [
        "#Exploro los tipos de datos de cada columna.\n",
        "df.dtypes"
      ],
      "metadata": {
        "colab": {
          "base_uri": "https://localhost:8080/",
          "height": 0
        },
        "id": "6L5jQVfMR_Tv",
        "outputId": "fbbb77a2-a3d3-44ef-a551-5b6991a834c7"
      },
      "execution_count": 94,
      "outputs": [
        {
          "output_type": "execute_result",
          "data": {
            "text/plain": [
              "PatientId         float64\n",
              "AppointmentID       int64\n",
              "Gender             object\n",
              "ScheduledDay       object\n",
              "AppointmentDay     object\n",
              "Age                 int64\n",
              "Neighbourhood      object\n",
              "Scholarship         int64\n",
              "Hipertension        int64\n",
              "Diabetes            int64\n",
              "Alcoholism          int64\n",
              "Handcap             int64\n",
              "SMS_received        int64\n",
              "No_show            object\n",
              "dtype: object"
            ],
            "text/html": [
              "<div>\n",
              "<style scoped>\n",
              "    .dataframe tbody tr th:only-of-type {\n",
              "        vertical-align: middle;\n",
              "    }\n",
              "\n",
              "    .dataframe tbody tr th {\n",
              "        vertical-align: top;\n",
              "    }\n",
              "\n",
              "    .dataframe thead th {\n",
              "        text-align: right;\n",
              "    }\n",
              "</style>\n",
              "<table border=\"1\" class=\"dataframe\">\n",
              "  <thead>\n",
              "    <tr style=\"text-align: right;\">\n",
              "      <th></th>\n",
              "      <th>0</th>\n",
              "    </tr>\n",
              "  </thead>\n",
              "  <tbody>\n",
              "    <tr>\n",
              "      <th>PatientId</th>\n",
              "      <td>float64</td>\n",
              "    </tr>\n",
              "    <tr>\n",
              "      <th>AppointmentID</th>\n",
              "      <td>int64</td>\n",
              "    </tr>\n",
              "    <tr>\n",
              "      <th>Gender</th>\n",
              "      <td>object</td>\n",
              "    </tr>\n",
              "    <tr>\n",
              "      <th>ScheduledDay</th>\n",
              "      <td>object</td>\n",
              "    </tr>\n",
              "    <tr>\n",
              "      <th>AppointmentDay</th>\n",
              "      <td>object</td>\n",
              "    </tr>\n",
              "    <tr>\n",
              "      <th>Age</th>\n",
              "      <td>int64</td>\n",
              "    </tr>\n",
              "    <tr>\n",
              "      <th>Neighbourhood</th>\n",
              "      <td>object</td>\n",
              "    </tr>\n",
              "    <tr>\n",
              "      <th>Scholarship</th>\n",
              "      <td>int64</td>\n",
              "    </tr>\n",
              "    <tr>\n",
              "      <th>Hipertension</th>\n",
              "      <td>int64</td>\n",
              "    </tr>\n",
              "    <tr>\n",
              "      <th>Diabetes</th>\n",
              "      <td>int64</td>\n",
              "    </tr>\n",
              "    <tr>\n",
              "      <th>Alcoholism</th>\n",
              "      <td>int64</td>\n",
              "    </tr>\n",
              "    <tr>\n",
              "      <th>Handcap</th>\n",
              "      <td>int64</td>\n",
              "    </tr>\n",
              "    <tr>\n",
              "      <th>SMS_received</th>\n",
              "      <td>int64</td>\n",
              "    </tr>\n",
              "    <tr>\n",
              "      <th>No_show</th>\n",
              "      <td>object</td>\n",
              "    </tr>\n",
              "  </tbody>\n",
              "</table>\n",
              "</div><br><label><b>dtype:</b> object</label>"
            ]
          },
          "metadata": {},
          "execution_count": 94
        }
      ]
    },
    {
      "cell_type": "markdown",
      "source": [
        "## Análisis detallado y pre-procesamiento por columna.\n",
        "\n",
        "Este análisis se lleva adelante para diagnosticar la calidad de cada variable, identificar su tipo de dato, presencia de anomalías y su coherencia, como paso previo a la limpieza y el análisis profundo."
      ],
      "metadata": {
        "id": "iWRAGQSJSeTy"
      }
    },
    {
      "cell_type": "markdown",
      "source": [
        "### PatientId\n"
      ],
      "metadata": {
        "id": "p56aUYDqum9S"
      }
    },
    {
      "cell_type": "code",
      "source": [
        "#Verifico tipo de datos\n",
        "df['PatientId'].dtype\n"
      ],
      "metadata": {
        "colab": {
          "base_uri": "https://localhost:8080/"
        },
        "id": "6WyVAs4uTJCS",
        "outputId": "1aa900c0-95e5-480e-a7c5-206f3ecb7a6d"
      },
      "execution_count": 95,
      "outputs": [
        {
          "output_type": "execute_result",
          "data": {
            "text/plain": [
              "dtype('float64')"
            ]
          },
          "metadata": {},
          "execution_count": 95
        }
      ]
    },
    {
      "cell_type": "code",
      "source": [
        "\n",
        "#Verifico unicidad de valores.\n",
        "if df.PatientId.is_unique == False:\n",
        "  print(\"La columna 'PatientId' posee valores únicos.\")\n",
        "else:\n",
        "  print(\"La columna 'PatientId' no posee valores únicos.\")\n"
      ],
      "metadata": {
        "colab": {
          "base_uri": "https://localhost:8080/"
        },
        "id": "AL-GC2pvwZuy",
        "outputId": "5abc87c5-af86-4e8d-9bd4-9a10d083f6cd"
      },
      "execution_count": 96,
      "outputs": [
        {
          "output_type": "stream",
          "name": "stdout",
          "text": [
            "La columna 'PatientId' posee valores únicos.\n"
          ]
        }
      ]
    },
    {
      "cell_type": "code",
      "source": [
        "#Cantidad de pacientes únicos en el dataset\n",
        "df.PatientId.nunique()"
      ],
      "metadata": {
        "colab": {
          "base_uri": "https://localhost:8080/"
        },
        "id": "ZWZjMWzI2MFA",
        "outputId": "7b844692-84a4-4ade-df1f-006eb1efdf8e"
      },
      "execution_count": 97,
      "outputs": [
        {
          "output_type": "execute_result",
          "data": {
            "text/plain": [
              "62299"
            ]
          },
          "metadata": {},
          "execution_count": 97
        }
      ]
    },
    {
      "cell_type": "code",
      "source": [
        "\n",
        "#Detecto la cantidad de PatientId que acudieron a más de una cita.\n",
        "(df.PatientId.value_counts() > 1).sum()"
      ],
      "metadata": {
        "colab": {
          "base_uri": "https://localhost:8080/"
        },
        "id": "ms2J71JFxZiw",
        "outputId": "16dbdba8-7be7-4064-f87d-2e0a9de565a9"
      },
      "execution_count": 98,
      "outputs": [
        {
          "output_type": "execute_result",
          "data": {
            "text/plain": [
              "np.int64(24379)"
            ]
          },
          "metadata": {},
          "execution_count": 98
        }
      ]
    },
    {
      "cell_type": "code",
      "source": [
        "#Detecto la cantidad de PatientId que acudieron a sólo una cita en el dataset.\n",
        "#Como primer paso guardo la serie que me devuelve value?counts en la variable conteo_citas\n",
        "conteo_citas = df.PatientId.value_counts()\n",
        "#La serie almacenada en conteo_citas la filtro para obtener sólo los que acudieron una vez.\n",
        "#Realizo la sumatoria para tener la cantidad de pacientes que acudieron sólo una vez.\n",
        "conteo_citas[conteo_citas == 1].sum()\n",
        "print(f\"La cantidad de pacientes que acudieron sólo una vez es de {conteo_citas[conteo_citas == 1].sum()}\")"
      ],
      "metadata": {
        "colab": {
          "base_uri": "https://localhost:8080/"
        },
        "id": "QE-rCGDwyDgT",
        "outputId": "9622fcab-1cd0-4c1d-ca9f-72b9a90b5e1c"
      },
      "execution_count": 99,
      "outputs": [
        {
          "output_type": "stream",
          "name": "stdout",
          "text": [
            "La cantidad de pacientes que acudieron sólo una vez es de 37920\n"
          ]
        }
      ]
    },
    {
      "cell_type": "markdown",
      "source": [
        "Al ser una columna de identificador único, presté atención a que posee un tipo de dato float.\n",
        "\n",
        "Teniendo en cuenta que debiera ser INT para un análisis más claro y de buena práctica profesional procedo a convertir la columna de FLOAT a INT.\n",
        "\n",
        "Una vez realizado el cambio, verifiqué que los cálculos de cantidad de pacientes únicos y restantes cálculos realizados con anterioridad me dieran igual.\n",
        "\n",
        "De esta forma me aseguro que luego de la conversión el data set mantenga su coherencia."
      ],
      "metadata": {
        "id": "bJdI25X33PIK"
      }
    },
    {
      "cell_type": "code",
      "source": [
        "#convierto tipo de datos float a int\n",
        "df['PatientId'] = df['PatientId'].astype(int)\n"
      ],
      "metadata": {
        "id": "4m4Zqd4Z2pGL"
      },
      "execution_count": 100,
      "outputs": []
    },
    {
      "cell_type": "code",
      "source": [
        "#Verifico si posee valores nulos\n",
        "\n",
        "cantidad_nulos = df.PatientId.isnull().sum()\n",
        "\n",
        "if cantidad_nulos > 0:\n",
        "    print(f\"La columna 'PatientId' posee {cantidad_nulos} valores nulos.\")\n",
        "else:\n",
        "    print(\"La columna 'PatientId' no posee valores nulos.\")"
      ],
      "metadata": {
        "colab": {
          "base_uri": "https://localhost:8080/"
        },
        "id": "ClM6wM5-3Ggp",
        "outputId": "02525a6d-0ec7-4398-a527-676aca1f2aed"
      },
      "execution_count": 101,
      "outputs": [
        {
          "output_type": "stream",
          "name": "stdout",
          "text": [
            "La columna 'PatientId' no posee valores nulos.\n"
          ]
        }
      ]
    },
    {
      "cell_type": "code",
      "source": [
        "#Verifico si posee valores negativos.\n",
        "negativos = (df['PatientId'] < 0).sum()\n",
        "print(f\"La columna 'PatientId' posee {negativos} valores negativos.\")\n"
      ],
      "metadata": {
        "colab": {
          "base_uri": "https://localhost:8080/"
        },
        "id": "T5aPzEQY5ScF",
        "outputId": "6e760d98-c858-4bb0-ca2c-eb5e5c70ba1f"
      },
      "execution_count": 102,
      "outputs": [
        {
          "output_type": "stream",
          "name": "stdout",
          "text": [
            "La columna 'PatientId' posee 0 valores negativos.\n"
          ]
        }
      ]
    },
    {
      "cell_type": "markdown",
      "source": [
        "### **AppointmentId**"
      ],
      "metadata": {
        "id": "ZcvywI9H7rAp"
      }
    },
    {
      "cell_type": "code",
      "source": [
        "#Verifico tipo de datos, al ser una clave principal, espero que sea int.\n",
        "df['AppointmentID'].dtype"
      ],
      "metadata": {
        "colab": {
          "base_uri": "https://localhost:8080/"
        },
        "id": "GzXuehan7vVo",
        "outputId": "9b58e4d6-724d-4cbc-b862-55ff983c6a60"
      },
      "execution_count": 103,
      "outputs": [
        {
          "output_type": "execute_result",
          "data": {
            "text/plain": [
              "dtype('int64')"
            ]
          },
          "metadata": {},
          "execution_count": 103
        }
      ]
    },
    {
      "cell_type": "code",
      "source": [
        "#Verifico que posea valores únicos.\n",
        "unicidad = df['AppointmentID'].is_unique\n",
        "\n",
        "if unicidad == True:\n",
        "  print(\"La columna 'AppointmentID' posee valores únicos.\")\n",
        "else:\n",
        "  print(\"La columna 'AppointmentID' no posee valores únicos.\")"
      ],
      "metadata": {
        "colab": {
          "base_uri": "https://localhost:8080/"
        },
        "id": "Uz0BIdPl8Bl1",
        "outputId": "62195b36-e826-4a97-e0c8-c616e8726161"
      },
      "execution_count": 104,
      "outputs": [
        {
          "output_type": "stream",
          "name": "stdout",
          "text": [
            "La columna 'AppointmentID' posee valores únicos.\n"
          ]
        }
      ]
    },
    {
      "cell_type": "code",
      "source": [
        "#Verifico que no posea valors nulos\n",
        "citas_nulas = df['AppointmentID'].isnull().sum()\n",
        "\n",
        "if citas_nulas > 0:\n",
        "    print(f\"La columna 'AppointmentID' posee {citas_nulas} valores nulos.\")\n",
        "else:\n",
        "    print(\"La columna 'AppointmentID' no posee valores nulos.\")"
      ],
      "metadata": {
        "colab": {
          "base_uri": "https://localhost:8080/"
        },
        "id": "2Qor-7cr8-OF",
        "outputId": "bd970ac6-9c08-498a-f760-e259965a0e82"
      },
      "execution_count": 105,
      "outputs": [
        {
          "output_type": "stream",
          "name": "stdout",
          "text": [
            "La columna 'AppointmentID' no posee valores nulos.\n"
          ]
        }
      ]
    },
    {
      "cell_type": "code",
      "source": [
        "#Verifico que no posea valores negativos\n",
        "valores_negativos = (df['AppointmentID']<0).sum()\n",
        "if valores_negativos == 0:\n",
        "  print(\"La columna 'AppointmentID' no posee valores negativos.\")\n",
        "else:\n",
        "  print(f\"La columna 'AppointmentID' posee {valores_negativos} valores negativos.\")"
      ],
      "metadata": {
        "colab": {
          "base_uri": "https://localhost:8080/"
        },
        "id": "4ev7VuTk9o59",
        "outputId": "8d858361-039a-485d-ddde-8411850707c4"
      },
      "execution_count": 106,
      "outputs": [
        {
          "output_type": "stream",
          "name": "stdout",
          "text": [
            "La columna 'AppointmentID' no posee valores negativos.\n"
          ]
        }
      ]
    },
    {
      "cell_type": "markdown",
      "source": [
        "## Gender"
      ],
      "metadata": {
        "id": "M24uX-Dv_zm2"
      }
    },
    {
      "cell_type": "code",
      "source": [
        "#Verifico el tipo de datos de la columna Gender\n",
        "df['Gender'].dtype"
      ],
      "metadata": {
        "colab": {
          "base_uri": "https://localhost:8080/"
        },
        "id": "iZCREDJz_2Uc",
        "outputId": "732485e5-4f92-4832-b2f1-ab7208997365"
      },
      "execution_count": 107,
      "outputs": [
        {
          "output_type": "execute_result",
          "data": {
            "text/plain": [
              "dtype('O')"
            ]
          },
          "metadata": {},
          "execution_count": 107
        }
      ]
    },
    {
      "cell_type": "markdown",
      "source": [
        "El tipo de datos de la columna GENDER es Object. Antes de convertir a otro tipo de dato, exploro los valores de la columna para decidir."
      ],
      "metadata": {
        "id": "Gy67SPzFAclP"
      }
    },
    {
      "cell_type": "code",
      "source": [
        "#Verifico que no posea valores nulos.\n",
        "gender_nulos = df['Gender'].isnull().sum()\n",
        "\n",
        "if gender_nulos == 0:\n",
        "  print(\"La columna 'Gender' no posee valores nulos.\")\n",
        "else:\n",
        "  print(f\"La columna 'Gender' posee {gender_nulos} valores nulos.\")"
      ],
      "metadata": {
        "colab": {
          "base_uri": "https://localhost:8080/"
        },
        "id": "ClUaNdVeBG3r",
        "outputId": "28a059ff-5f48-4c32-efe1-782e7690f645"
      },
      "execution_count": 108,
      "outputs": [
        {
          "output_type": "stream",
          "name": "stdout",
          "text": [
            "La columna 'Gender' no posee valores nulos.\n"
          ]
        }
      ]
    },
    {
      "cell_type": "code",
      "source": [
        "#Verifico cuáles son las categorías únicas en la columna y su cantidad.\n",
        "df['Gender'].value_counts()\n"
      ],
      "metadata": {
        "colab": {
          "base_uri": "https://localhost:8080/",
          "height": 178
        },
        "id": "LZ6DkqzBCKJo",
        "outputId": "ee927d50-e63c-47a6-8113-6e9d7fa49a27"
      },
      "execution_count": 109,
      "outputs": [
        {
          "output_type": "execute_result",
          "data": {
            "text/plain": [
              "Gender\n",
              "F    71840\n",
              "M    38687\n",
              "Name: count, dtype: int64"
            ],
            "text/html": [
              "<div>\n",
              "<style scoped>\n",
              "    .dataframe tbody tr th:only-of-type {\n",
              "        vertical-align: middle;\n",
              "    }\n",
              "\n",
              "    .dataframe tbody tr th {\n",
              "        vertical-align: top;\n",
              "    }\n",
              "\n",
              "    .dataframe thead th {\n",
              "        text-align: right;\n",
              "    }\n",
              "</style>\n",
              "<table border=\"1\" class=\"dataframe\">\n",
              "  <thead>\n",
              "    <tr style=\"text-align: right;\">\n",
              "      <th></th>\n",
              "      <th>count</th>\n",
              "    </tr>\n",
              "    <tr>\n",
              "      <th>Gender</th>\n",
              "      <th></th>\n",
              "    </tr>\n",
              "  </thead>\n",
              "  <tbody>\n",
              "    <tr>\n",
              "      <th>F</th>\n",
              "      <td>71840</td>\n",
              "    </tr>\n",
              "    <tr>\n",
              "      <th>M</th>\n",
              "      <td>38687</td>\n",
              "    </tr>\n",
              "  </tbody>\n",
              "</table>\n",
              "</div><br><label><b>dtype:</b> int64</label>"
            ]
          },
          "metadata": {},
          "execution_count": 109
        }
      ]
    },
    {
      "cell_type": "code",
      "source": [
        "#Convierto el tipo de datos de Object a Category\n",
        "df['Gender'] = df['Gender'].astype('category')\n",
        "df.Gender.dtype"
      ],
      "metadata": {
        "colab": {
          "base_uri": "https://localhost:8080/"
        },
        "id": "phh4lZwlFVpA",
        "outputId": "2b991b82-e070-44db-f82f-dd9a97d27462"
      },
      "execution_count": 110,
      "outputs": [
        {
          "output_type": "execute_result",
          "data": {
            "text/plain": [
              "CategoricalDtype(categories=['F', 'M'], ordered=False, categories_dtype=object)"
            ]
          },
          "metadata": {},
          "execution_count": 110
        }
      ]
    },
    {
      "cell_type": "markdown",
      "source": [
        "####Visualización de la proporción de género en la población analizada\n",
        "Para llevar adelante la visualización gráfica utilizaré pie chart (gráfico de torta)\n",
        "\n",
        "Es una herramienta visual efectiva para representar la distribución de la población por género, ya que permite ver la proporción de cada categoría como una parte de un todo.\n",
        "\n",
        "Gender es una variable categórica con un número limitado de categorías, lo que facilita la visualización y el análisis de la composición de los pacientes."
      ],
      "metadata": {
        "id": "XeRKGGA8HwDP"
      }
    },
    {
      "cell_type": "code",
      "source": [
        "#Gráfico de torta para visualizar las proporciones de los valores de Gender\n",
        "import matplotlib.pyplot as plt\n",
        "conteo_genero = df['Gender'].value_counts()\n",
        "plt.pie(conteo_genero, labels=['Femenino','Masculino'], autopct='%1.1f%%', colors=['pink','skyblue'])\n",
        "plt.title('Distribución de citas por género')\n",
        "plt.show()"
      ],
      "metadata": {
        "colab": {
          "base_uri": "https://localhost:8080/",
          "height": 429
        },
        "id": "BuTjhe7RIP5o",
        "outputId": "15405a37-8bdc-4511-80cb-625f8a6e8f91"
      },
      "execution_count": 111,
      "outputs": [
        {
          "output_type": "display_data",
          "data": {
            "text/plain": [
              "<Figure size 640x480 with 1 Axes>"
            ],
            "image/png": "[encoded data removed]"
          },
          "metadata": {}
        }
      ]
    },
    {
      "cell_type": "markdown",
      "source": [
        "### ScheduledDay"
      ],
      "metadata": {
        "id": "r20X7ojbLC4l"
      }
    },
    {
      "cell_type": "code",
      "source": [
        "#Verifico el tipo de datos de ScheduledDay\n",
        "df.ScheduledDay.dtype"
      ],
      "metadata": {
        "colab": {
          "base_uri": "https://localhost:8080/"
        },
        "id": "dUgOCcGAL51W",
        "outputId": "760d3b0c-9578-47ca-d614-9a3740f223bb"
      },
      "execution_count": 112,
      "outputs": [
        {
          "output_type": "execute_result",
          "data": {
            "text/plain": [
              "dtype('O')"
            ]
          },
          "metadata": {},
          "execution_count": 112
        }
      ]
    },
    {
      "cell_type": "code",
      "source": [
        "#Convierto ScheduledDay a DateTime\n",
        "df['ScheduledDay'] = pd.to_datetime(df['ScheduledDay'])\n",
        "df.ScheduledDay.dtype\n",
        "df.ScheduledDay.head(10)"
      ],
      "metadata": {
        "colab": {
          "base_uri": "https://localhost:8080/",
          "height": 398
        },
        "id": "uj0KuazhMGxJ",
        "outputId": "7802c198-51d4-4d79-bdd6-1a942c90ea05"
      },
      "execution_count": 113,
      "outputs": [
        {
          "output_type": "execute_result",
          "data": {
            "text/plain": [
              "0   2016-04-29 18:38:08+00:00\n",
              "1   2016-04-29 16:08:27+00:00\n",
              "2   2016-04-29 16:19:04+00:00\n",
              "3   2016-04-29 17:29:31+00:00\n",
              "4   2016-04-29 16:07:23+00:00\n",
              "5   2016-04-27 08:36:51+00:00\n",
              "6   2016-04-27 15:05:12+00:00\n",
              "7   2016-04-27 15:39:58+00:00\n",
              "8   2016-04-29 08:02:16+00:00\n",
              "9   2016-04-27 12:48:25+00:00\n",
              "Name: ScheduledDay, dtype: datetime64[ns, UTC]"
            ],
            "text/html": [
              "<div>\n",
              "<style scoped>\n",
              "    .dataframe tbody tr th:only-of-type {\n",
              "        vertical-align: middle;\n",
              "    }\n",
              "\n",
              "    .dataframe tbody tr th {\n",
              "        vertical-align: top;\n",
              "    }\n",
              "\n",
              "    .dataframe thead th {\n",
              "        text-align: right;\n",
              "    }\n",
              "</style>\n",
              "<table border=\"1\" class=\"dataframe\">\n",
              "  <thead>\n",
              "    <tr style=\"text-align: right;\">\n",
              "      <th></th>\n",
              "      <th>ScheduledDay</th>\n",
              "    </tr>\n",
              "  </thead>\n",
              "  <tbody>\n",
              "    <tr>\n",
              "      <th>0</th>\n",
              "      <td>2016-04-29 18:38:08+00:00</td>\n",
              "    </tr>\n",
              "    <tr>\n",
              "      <th>1</th>\n",
              "      <td>2016-04-29 16:08:27+00:00</td>\n",
              "    </tr>\n",
              "    <tr>\n",
              "      <th>2</th>\n",
              "      <td>2016-04-29 16:19:04+00:00</td>\n",
              "    </tr>\n",
              "    <tr>\n",
              "      <th>3</th>\n",
              "      <td>2016-04-29 17:29:31+00:00</td>\n",
              "    </tr>\n",
              "    <tr>\n",
              "      <th>4</th>\n",
              "      <td>2016-04-29 16:07:23+00:00</td>\n",
              "    </tr>\n",
              "    <tr>\n",
              "      <th>5</th>\n",
              "      <td>2016-04-27 08:36:51+00:00</td>\n",
              "    </tr>\n",
              "    <tr>\n",
              "      <th>6</th>\n",
              "      <td>2016-04-27 15:05:12+00:00</td>\n",
              "    </tr>\n",
              "    <tr>\n",
              "      <th>7</th>\n",
              "      <td>2016-04-27 15:39:58+00:00</td>\n",
              "    </tr>\n",
              "    <tr>\n",
              "      <th>8</th>\n",
              "      <td>2016-04-29 08:02:16+00:00</td>\n",
              "    </tr>\n",
              "    <tr>\n",
              "      <th>9</th>\n",
              "      <td>2016-04-27 12:48:25+00:00</td>\n",
              "    </tr>\n",
              "  </tbody>\n",
              "</table>\n",
              "</div><br><label><b>dtype:</b> datetime64[ns, UTC]</label>"
            ]
          },
          "metadata": {},
          "execution_count": 113
        }
      ]
    },
    {
      "cell_type": "code",
      "source": [
        "#Verifico si posee valores nulos\n",
        "scheduled_nulos = df['ScheduledDay'].isnull().sum()\n",
        "\n",
        "if scheduled_nulos == 0:\n",
        "  print(\"La columna 'ScheduledDay' no posee valores nulos.\")\n",
        "else:\n",
        "  print(f\"La columna 'ScheduledDay' posee {scheduled_nulos} valores nulos.\")"
      ],
      "metadata": {
        "colab": {
          "base_uri": "https://localhost:8080/"
        },
        "id": "8LqAk4JmMP2L",
        "outputId": "ac31a87d-2f39-4d96-cbf8-a6a44aafbbd7"
      },
      "execution_count": 114,
      "outputs": [
        {
          "output_type": "stream",
          "name": "stdout",
          "text": [
            "La columna 'ScheduledDay' no posee valores nulos.\n"
          ]
        }
      ]
    },
    {
      "cell_type": "code",
      "source": [
        "#Verifico el rango de fechas que posee el dataset previamente convertido a datetime.\n",
        "df['ScheduledDay'] = df['ScheduledDay'].dt.date\n",
        "fecha_minima = min(df['ScheduledDay'])\n",
        "fecha_maxima = max(df['ScheduledDay'])\n",
        "\n",
        "print(f\"Rango de fechas (solo fecha): Desde {fecha_minima} hasta {fecha_maxima}\")"
      ],
      "metadata": {
        "colab": {
          "base_uri": "https://localhost:8080/"
        },
        "id": "cIZKnisDMhK8",
        "outputId": "580c1df4-3eae-4564-e69d-c6f7b173ad6c"
      },
      "execution_count": 115,
      "outputs": [
        {
          "output_type": "stream",
          "name": "stdout",
          "text": [
            "Rango de fechas (solo fecha): Desde 2015-11-10 hasta 2016-06-08\n"
          ]
        }
      ]
    },
    {
      "cell_type": "markdown",
      "source": [
        "El dataset posee valores precisos en la columna ScheduledDay con nanosegundos incluso e información de zona horaria.\n",
        "\n",
        "Para un trabajo más claro, ordenado y legible se procederá a mantener la columna, pero se obtendrá información relevante de la misma para los posteriores análisis.\n",
        "\n",
        "En ese sentido, se crea la columna **Scheduled_day_week** que contendrá el día de la semana del agendamiento de la cita.\n",
        "\n",
        "También se creará otra columna sólo de la fecha, sin los segundos, se llamará **Scheduled_date**\n",
        "\n",
        "**Seguiré la misma lógica para AppointmentDay.**\n",
        "\n",
        "Finalmente, se creará otra columna con la diferencia en tiempo entre la fecha del agendamiento (ScheduledDay) y la fecha de la cita médica (AppointmentDay).\n",
        "\n",
        "El nombre de la columna será **Days_Between**, de tipo datetime."
      ],
      "metadata": {
        "id": "1-_VXovlQXXs"
      }
    },
    {
      "cell_type": "code",
      "source": [
        "# Creo la nueva columna Scheduled_day_week\n",
        "# Por alguna razón que desconozco debo hacer explícita la conversión a datetime\n",
        "# en este paso, aunque la he realizado previamente.\n",
        "\n",
        "df['ScheduledDay'] = pd.to_datetime(df['ScheduledDay'])\n",
        "df['Scheduled_day_week'] = df['ScheduledDay'].dt.day_name()\n",
        "df['ScheduledDay'].head(10)"
      ],
      "metadata": {
        "colab": {
          "base_uri": "https://localhost:8080/",
          "height": 398
        },
        "id": "xGl1PUDoSds8",
        "outputId": "f9f56843-708f-496d-90d5-0ab805cca0f4"
      },
      "execution_count": 116,
      "outputs": [
        {
          "output_type": "execute_result",
          "data": {
            "text/plain": [
              "0   2016-04-29\n",
              "1   2016-04-29\n",
              "2   2016-04-29\n",
              "3   2016-04-29\n",
              "4   2016-04-29\n",
              "5   2016-04-27\n",
              "6   2016-04-27\n",
              "7   2016-04-27\n",
              "8   2016-04-29\n",
              "9   2016-04-27\n",
              "Name: ScheduledDay, dtype: datetime64[ns]"
            ],
            "text/html": [
              "<div>\n",
              "<style scoped>\n",
              "    .dataframe tbody tr th:only-of-type {\n",
              "        vertical-align: middle;\n",
              "    }\n",
              "\n",
              "    .dataframe tbody tr th {\n",
              "        vertical-align: top;\n",
              "    }\n",
              "\n",
              "    .dataframe thead th {\n",
              "        text-align: right;\n",
              "    }\n",
              "</style>\n",
              "<table border=\"1\" class=\"dataframe\">\n",
              "  <thead>\n",
              "    <tr style=\"text-align: right;\">\n",
              "      <th></th>\n",
              "      <th>ScheduledDay</th>\n",
              "    </tr>\n",
              "  </thead>\n",
              "  <tbody>\n",
              "    <tr>\n",
              "      <th>0</th>\n",
              "      <td>2016-04-29</td>\n",
              "    </tr>\n",
              "    <tr>\n",
              "      <th>1</th>\n",
              "      <td>2016-04-29</td>\n",
              "    </tr>\n",
              "    <tr>\n",
              "      <th>2</th>\n",
              "      <td>2016-04-29</td>\n",
              "    </tr>\n",
              "    <tr>\n",
              "      <th>3</th>\n",
              "      <td>2016-04-29</td>\n",
              "    </tr>\n",
              "    <tr>\n",
              "      <th>4</th>\n",
              "      <td>2016-04-29</td>\n",
              "    </tr>\n",
              "    <tr>\n",
              "      <th>5</th>\n",
              "      <td>2016-04-27</td>\n",
              "    </tr>\n",
              "    <tr>\n",
              "      <th>6</th>\n",
              "      <td>2016-04-27</td>\n",
              "    </tr>\n",
              "    <tr>\n",
              "      <th>7</th>\n",
              "      <td>2016-04-27</td>\n",
              "    </tr>\n",
              "    <tr>\n",
              "      <th>8</th>\n",
              "      <td>2016-04-29</td>\n",
              "    </tr>\n",
              "    <tr>\n",
              "      <th>9</th>\n",
              "      <td>2016-04-27</td>\n",
              "    </tr>\n",
              "  </tbody>\n",
              "</table>\n",
              "</div><br><label><b>dtype:</b> datetime64[ns]</label>"
            ]
          },
          "metadata": {},
          "execution_count": 116
        }
      ]
    },
    {
      "cell_type": "code",
      "source": [
        "#Creo la nueva columna Scheduled_date\n",
        "\n",
        "df['Scheduled_date'] = df['ScheduledDay'].dt.date\n",
        "df['Scheduled_date'].head(10)"
      ],
      "metadata": {
        "colab": {
          "base_uri": "https://localhost:8080/",
          "height": 398
        },
        "id": "MfuVGiXdVLMF",
        "outputId": "13ba6d21-95e0-48b1-ffcf-91b7c6ef9e59"
      },
      "execution_count": 117,
      "outputs": [
        {
          "output_type": "execute_result",
          "data": {
            "text/plain": [
              "0    2016-04-29\n",
              "1    2016-04-29\n",
              "2    2016-04-29\n",
              "3    2016-04-29\n",
              "4    2016-04-29\n",
              "5    2016-04-27\n",
              "6    2016-04-27\n",
              "7    2016-04-27\n",
              "8    2016-04-29\n",
              "9    2016-04-27\n",
              "Name: Scheduled_date, dtype: object"
            ],
            "text/html": [
              "<div>\n",
              "<style scoped>\n",
              "    .dataframe tbody tr th:only-of-type {\n",
              "        vertical-align: middle;\n",
              "    }\n",
              "\n",
              "    .dataframe tbody tr th {\n",
              "        vertical-align: top;\n",
              "    }\n",
              "\n",
              "    .dataframe thead th {\n",
              "        text-align: right;\n",
              "    }\n",
              "</style>\n",
              "<table border=\"1\" class=\"dataframe\">\n",
              "  <thead>\n",
              "    <tr style=\"text-align: right;\">\n",
              "      <th></th>\n",
              "      <th>Scheduled_date</th>\n",
              "    </tr>\n",
              "  </thead>\n",
              "  <tbody>\n",
              "    <tr>\n",
              "      <th>0</th>\n",
              "      <td>2016-04-29</td>\n",
              "    </tr>\n",
              "    <tr>\n",
              "      <th>1</th>\n",
              "      <td>2016-04-29</td>\n",
              "    </tr>\n",
              "    <tr>\n",
              "      <th>2</th>\n",
              "      <td>2016-04-29</td>\n",
              "    </tr>\n",
              "    <tr>\n",
              "      <th>3</th>\n",
              "      <td>2016-04-29</td>\n",
              "    </tr>\n",
              "    <tr>\n",
              "      <th>4</th>\n",
              "      <td>2016-04-29</td>\n",
              "    </tr>\n",
              "    <tr>\n",
              "      <th>5</th>\n",
              "      <td>2016-04-27</td>\n",
              "    </tr>\n",
              "    <tr>\n",
              "      <th>6</th>\n",
              "      <td>2016-04-27</td>\n",
              "    </tr>\n",
              "    <tr>\n",
              "      <th>7</th>\n",
              "      <td>2016-04-27</td>\n",
              "    </tr>\n",
              "    <tr>\n",
              "      <th>8</th>\n",
              "      <td>2016-04-29</td>\n",
              "    </tr>\n",
              "    <tr>\n",
              "      <th>9</th>\n",
              "      <td>2016-04-27</td>\n",
              "    </tr>\n",
              "  </tbody>\n",
              "</table>\n",
              "</div><br><label><b>dtype:</b> object</label>"
            ]
          },
          "metadata": {},
          "execution_count": 117
        }
      ]
    },
    {
      "cell_type": "markdown",
      "source": [
        "###AppointmentDay"
      ],
      "metadata": {
        "id": "bxSx9faRZvXI"
      }
    },
    {
      "cell_type": "code",
      "source": [
        "# Creo la nueva columna AppointmentDay cuyos valores son los días de la semana\n",
        "# del agendamiento de la cita\n",
        "df['AppointmentDay'] = pd.to_datetime(df['AppointmentDay'])\n",
        "df['Appointment_day_week'] =  df['AppointmentDay'].dt.day_name()\n",
        "df['Appointment_day_week'].head(10)\n"
      ],
      "metadata": {
        "colab": {
          "base_uri": "https://localhost:8080/",
          "height": 398
        },
        "id": "Gom9R8UCZuCK",
        "outputId": "734ded63-b723-486c-b1d8-10cfe4aba355"
      },
      "execution_count": 118,
      "outputs": [
        {
          "output_type": "execute_result",
          "data": {
            "text/plain": [
              "0    Friday\n",
              "1    Friday\n",
              "2    Friday\n",
              "3    Friday\n",
              "4    Friday\n",
              "5    Friday\n",
              "6    Friday\n",
              "7    Friday\n",
              "8    Friday\n",
              "9    Friday\n",
              "Name: Appointment_day_week, dtype: object"
            ],
            "text/html": [
              "<div>\n",
              "<style scoped>\n",
              "    .dataframe tbody tr th:only-of-type {\n",
              "        vertical-align: middle;\n",
              "    }\n",
              "\n",
              "    .dataframe tbody tr th {\n",
              "        vertical-align: top;\n",
              "    }\n",
              "\n",
              "    .dataframe thead th {\n",
              "        text-align: right;\n",
              "    }\n",
              "</style>\n",
              "<table border=\"1\" class=\"dataframe\">\n",
              "  <thead>\n",
              "    <tr style=\"text-align: right;\">\n",
              "      <th></th>\n",
              "      <th>Appointment_day_week</th>\n",
              "    </tr>\n",
              "  </thead>\n",
              "  <tbody>\n",
              "    <tr>\n",
              "      <th>0</th>\n",
              "      <td>Friday</td>\n",
              "    </tr>\n",
              "    <tr>\n",
              "      <th>1</th>\n",
              "      <td>Friday</td>\n",
              "    </tr>\n",
              "    <tr>\n",
              "      <th>2</th>\n",
              "      <td>Friday</td>\n",
              "    </tr>\n",
              "    <tr>\n",
              "      <th>3</th>\n",
              "      <td>Friday</td>\n",
              "    </tr>\n",
              "    <tr>\n",
              "      <th>4</th>\n",
              "      <td>Friday</td>\n",
              "    </tr>\n",
              "    <tr>\n",
              "      <th>5</th>\n",
              "      <td>Friday</td>\n",
              "    </tr>\n",
              "    <tr>\n",
              "      <th>6</th>\n",
              "      <td>Friday</td>\n",
              "    </tr>\n",
              "    <tr>\n",
              "      <th>7</th>\n",
              "      <td>Friday</td>\n",
              "    </tr>\n",
              "    <tr>\n",
              "      <th>8</th>\n",
              "      <td>Friday</td>\n",
              "    </tr>\n",
              "    <tr>\n",
              "      <th>9</th>\n",
              "      <td>Friday</td>\n",
              "    </tr>\n",
              "  </tbody>\n",
              "</table>\n",
              "</div><br><label><b>dtype:</b> object</label>"
            ]
          },
          "metadata": {},
          "execution_count": 118
        }
      ]
    },
    {
      "cell_type": "code",
      "source": [
        "#Creco columna con la fecha sin segundos.\n",
        "df['Appointment_date'] = df['AppointmentDay'].dt.date\n",
        "df['Appointment_date'].head(10)"
      ],
      "metadata": {
        "colab": {
          "base_uri": "https://localhost:8080/",
          "height": 398
        },
        "id": "XcO8iTQ4acC5",
        "outputId": "1a47311f-c562-464a-9b0b-364e24174607"
      },
      "execution_count": 119,
      "outputs": [
        {
          "output_type": "execute_result",
          "data": {
            "text/plain": [
              "0    2016-04-29\n",
              "1    2016-04-29\n",
              "2    2016-04-29\n",
              "3    2016-04-29\n",
              "4    2016-04-29\n",
              "5    2016-04-29\n",
              "6    2016-04-29\n",
              "7    2016-04-29\n",
              "8    2016-04-29\n",
              "9    2016-04-29\n",
              "Name: Appointment_date, dtype: object"
            ],
            "text/html": [
              "<div>\n",
              "<style scoped>\n",
              "    .dataframe tbody tr th:only-of-type {\n",
              "        vertical-align: middle;\n",
              "    }\n",
              "\n",
              "    .dataframe tbody tr th {\n",
              "        vertical-align: top;\n",
              "    }\n",
              "\n",
              "    .dataframe thead th {\n",
              "        text-align: right;\n",
              "    }\n",
              "</style>\n",
              "<table border=\"1\" class=\"dataframe\">\n",
              "  <thead>\n",
              "    <tr style=\"text-align: right;\">\n",
              "      <th></th>\n",
              "      <th>Appointment_date</th>\n",
              "    </tr>\n",
              "  </thead>\n",
              "  <tbody>\n",
              "    <tr>\n",
              "      <th>0</th>\n",
              "      <td>2016-04-29</td>\n",
              "    </tr>\n",
              "    <tr>\n",
              "      <th>1</th>\n",
              "      <td>2016-04-29</td>\n",
              "    </tr>\n",
              "    <tr>\n",
              "      <th>2</th>\n",
              "      <td>2016-04-29</td>\n",
              "    </tr>\n",
              "    <tr>\n",
              "      <th>3</th>\n",
              "      <td>2016-04-29</td>\n",
              "    </tr>\n",
              "    <tr>\n",
              "      <th>4</th>\n",
              "      <td>2016-04-29</td>\n",
              "    </tr>\n",
              "    <tr>\n",
              "      <th>5</th>\n",
              "      <td>2016-04-29</td>\n",
              "    </tr>\n",
              "    <tr>\n",
              "      <th>6</th>\n",
              "      <td>2016-04-29</td>\n",
              "    </tr>\n",
              "    <tr>\n",
              "      <th>7</th>\n",
              "      <td>2016-04-29</td>\n",
              "    </tr>\n",
              "    <tr>\n",
              "      <th>8</th>\n",
              "      <td>2016-04-29</td>\n",
              "    </tr>\n",
              "    <tr>\n",
              "      <th>9</th>\n",
              "      <td>2016-04-29</td>\n",
              "    </tr>\n",
              "  </tbody>\n",
              "</table>\n",
              "</div><br><label><b>dtype:</b> object</label>"
            ]
          },
          "metadata": {},
          "execution_count": 119
        }
      ]
    },
    {
      "cell_type": "code",
      "source": [
        "# Calcula la diferencia en días entre el agendamiento y la cita\n",
        "beetween = (df['Appointment_date'] - df['Scheduled_date'])\n",
        "beetween = pd.to_timedelta(beetween)\n",
        "df['DaysBeetween'] = beetween.dt.days\n",
        "df['DaysBeetween'].head(10)\n"
      ],
      "metadata": {
        "colab": {
          "base_uri": "https://localhost:8080/",
          "height": 398
        },
        "id": "YI4vi5y1bXPG",
        "outputId": "34327a8e-96f2-406c-a950-5245753678a9"
      },
      "execution_count": 120,
      "outputs": [
        {
          "output_type": "execute_result",
          "data": {
            "text/plain": [
              "0    0\n",
              "1    0\n",
              "2    0\n",
              "3    0\n",
              "4    0\n",
              "5    2\n",
              "6    2\n",
              "7    2\n",
              "8    0\n",
              "9    2\n",
              "Name: DaysBeetween, dtype: int64"
            ],
            "text/html": [
              "<div>\n",
              "<style scoped>\n",
              "    .dataframe tbody tr th:only-of-type {\n",
              "        vertical-align: middle;\n",
              "    }\n",
              "\n",
              "    .dataframe tbody tr th {\n",
              "        vertical-align: top;\n",
              "    }\n",
              "\n",
              "    .dataframe thead th {\n",
              "        text-align: right;\n",
              "    }\n",
              "</style>\n",
              "<table border=\"1\" class=\"dataframe\">\n",
              "  <thead>\n",
              "    <tr style=\"text-align: right;\">\n",
              "      <th></th>\n",
              "      <th>DaysBeetween</th>\n",
              "    </tr>\n",
              "  </thead>\n",
              "  <tbody>\n",
              "    <tr>\n",
              "      <th>0</th>\n",
              "      <td>0</td>\n",
              "    </tr>\n",
              "    <tr>\n",
              "      <th>1</th>\n",
              "      <td>0</td>\n",
              "    </tr>\n",
              "    <tr>\n",
              "      <th>2</th>\n",
              "      <td>0</td>\n",
              "    </tr>\n",
              "    <tr>\n",
              "      <th>3</th>\n",
              "      <td>0</td>\n",
              "    </tr>\n",
              "    <tr>\n",
              "      <th>4</th>\n",
              "      <td>0</td>\n",
              "    </tr>\n",
              "    <tr>\n",
              "      <th>5</th>\n",
              "      <td>2</td>\n",
              "    </tr>\n",
              "    <tr>\n",
              "      <th>6</th>\n",
              "      <td>2</td>\n",
              "    </tr>\n",
              "    <tr>\n",
              "      <th>7</th>\n",
              "      <td>2</td>\n",
              "    </tr>\n",
              "    <tr>\n",
              "      <th>8</th>\n",
              "      <td>0</td>\n",
              "    </tr>\n",
              "    <tr>\n",
              "      <th>9</th>\n",
              "      <td>2</td>\n",
              "    </tr>\n",
              "  </tbody>\n",
              "</table>\n",
              "</div><br><label><b>dtype:</b> int64</label>"
            ]
          },
          "metadata": {},
          "execution_count": 120
        }
      ]
    },
    {
      "cell_type": "markdown",
      "source": [
        "###DaysBeetween"
      ],
      "metadata": {
        "id": "nJNeZfQye_nY"
      }
    },
    {
      "cell_type": "code",
      "source": [
        "#Verifico si posee valores negativos, esto sería una anomalía dado que\n",
        "#no puede haber agendamientos posteriores a la cita.\n",
        "\n",
        "conteo_nulos = (df['DaysBeetween'] < 0).sum()\n",
        "if conteo_nulos == 0:\n",
        "  print(\"La columna 'DaysBeetween' no posee valores negativos.\")\n",
        "else:\n",
        "  print(f\"La columna 'DaysBeetween' posee {conteo_nulos} valores negativos.\")"
      ],
      "metadata": {
        "colab": {
          "base_uri": "https://localhost:8080/"
        },
        "id": "6Mp0w95kfK9h",
        "outputId": "b218a3ef-6276-4990-cc6c-a6407985da9a"
      },
      "execution_count": 121,
      "outputs": [
        {
          "output_type": "stream",
          "name": "stdout",
          "text": [
            "La columna 'DaysBeetween' posee 5 valores negativos.\n"
          ]
        }
      ]
    },
    {
      "cell_type": "markdown",
      "source": [
        "Al verificarse 5 valores negativos, se procede a eliminar dichas filas.\n",
        "\n",
        "Esto es así dado que se trata de una anomalía, pues no es posible que un agendamiento de una cita sea posterior a la cita misma.\n",
        "\n",
        "Estos registros son inconsistentes y no reflejan eventos reales, lo que los convierte en ruido de datos.\n",
        "\n",
        "La decisión está basada en el impacto mínimo en el análisis, cinco registros de 110.000.\n"
      ],
      "metadata": {
        "id": "3Gr82aIYhGLI"
      }
    },
    {
      "cell_type": "code",
      "source": [
        "#Crea un nuevo DataFrame que contenga solo las filas de df donde la columna\n",
        "#DaysBetween sea mayor o igual a cero, y luego reemplaza el DataFrame original.\n",
        "\n",
        "df = df[df['DaysBeetween'] >= 0]\n",
        "\n"
      ],
      "metadata": {
        "id": "S7Gp07BajFbp"
      },
      "execution_count": 122,
      "outputs": []
    },
    {
      "cell_type": "code",
      "source": [
        "#La cantidad mínima y máxima de diferencia de días entre agendamiento y cita.\n",
        "#Lo realizo para verificar si hay posibles anomalías.\n",
        "\n",
        "print(f\"La diferencia mínima entre agendamiento y cita es de {df['DaysBeetween'].min()} días.\")\n",
        "print(f\"La diferencia máxima entre agendamiento y cita es de {df['DaysBeetween'].max()} días.\")\n",
        "\n",
        "#Considero que 179 días puede ser un valor real para algún estudio específico de salud."
      ],
      "metadata": {
        "colab": {
          "base_uri": "https://localhost:8080/"
        },
        "id": "qvvvA4pxjkW1",
        "outputId": "7e2c402a-bc9e-449b-9ee9-6a831419a074"
      },
      "execution_count": 123,
      "outputs": [
        {
          "output_type": "stream",
          "name": "stdout",
          "text": [
            "La diferencia mínima entre agendamiento y cita es de 0 días.\n",
            "La diferencia máxima entre agendamiento y cita es de 179 días.\n"
          ]
        }
      ]
    },
    {
      "cell_type": "code",
      "source": [
        "#Verifico la cantidad de citas que se agendaron para el mismo día.\n",
        "\n",
        "mismo_dia = (df['DaysBeetween'] == 0).sum()\n",
        "print(f\"La cantidad de citas agendadas para el mismo día es de {mismo_dia}.\")\n",
        "\n",
        "\n"
      ],
      "metadata": {
        "colab": {
          "base_uri": "https://localhost:8080/"
        },
        "id": "JDaZqfgmmY28",
        "outputId": "0fbca4da-1cfa-4c62-e2e5-4f5260f54937"
      },
      "execution_count": 124,
      "outputs": [
        {
          "output_type": "stream",
          "name": "stdout",
          "text": [
            "La cantidad de citas agendadas para el mismo día es de 38563.\n"
          ]
        }
      ]
    },
    {
      "cell_type": "code",
      "source": [
        "#Dado que 38563 de turnos para el mismo día es un número que considero\n",
        "# importante en proporción al total, exploraré mediante un gráfico para\n",
        "#visualizar los horarios en que se agendaron.\n",
        "#La hipótesis es que la mayoría de los turnos hayan sido agendado por la mañana\n",
        "#o mediodía.\n",
        "\n",
        "import matplotlib.pyplot as plt\n",
        "\n",
        "plt.figure(figsize=(12, 7))\n",
        "plt.hist(df['DaysBeetween'], bins=50, edgecolor='black', alpha=0.7)\n",
        "plt.title('Distribución de los Días de Espera de los Pacientes')\n",
        "plt.xlabel('Días de Espera')\n",
        "plt.ylabel('Número de Citas')\n",
        "plt.show()"
      ],
      "metadata": {
        "colab": {
          "base_uri": "https://localhost:8080/",
          "height": 508
        },
        "id": "gihq3ikznwLW",
        "outputId": "9adf496d-4792-466e-ebe4-be1d9e1850f0"
      },
      "execution_count": 125,
      "outputs": [
        {
          "output_type": "display_data",
          "data": {
            "text/plain": [
              "<Figure size 1200x700 with 1 Axes>"
            ],
            "image/png": "[encoded data removed]"
          },
          "metadata": {}
        }
      ]
    },
    {
      "cell_type": "code",
      "source": [
        "import matplotlib.pyplot as plt\n",
        "\n",
        "# 1. Filtra los datos donde DaysBetween es 0\n",
        "citas_mismo_dia = df[df['DaysBeetween'] == 0].copy()\n",
        "\n",
        "# 2. Extrae la hora de ScheduledDay\n",
        "citas_mismo_dia['ScheduledHour'] = citas_mismo_dia['ScheduledDay'].dt.hour\n",
        "\n",
        "# 3. Crea el histograma\n",
        "plt.figure(figsize=(10, 6))\n",
        "plt.hist(citas_mismo_dia['ScheduledHour'], bins=24, edgecolor='black', alpha=0.7)\n",
        "plt.title('Distribución de Citas Agendadas en el Mismo Día por Hora')\n",
        "plt.xlabel('Hora del Día (0-23)')\n",
        "plt.ylabel('Número de Citas')\n",
        "plt.xticks(range(24))\n",
        "plt.grid(axis='y', alpha=0.5)\n",
        "plt.show()"
      ],
      "metadata": {
        "colab": {
          "base_uri": "https://localhost:8080/",
          "height": 520
        },
        "id": "lMz4W-E5o3E6",
        "outputId": "41d11313-bd73-4c84-84db-c1ee304ebe65"
      },
      "execution_count": 126,
      "outputs": [
        {
          "output_type": "display_data",
          "data": {
            "text/plain": [
              "<Figure size 1000x600 with 1 Axes>"
            ],
            "image/png": "[encoded data removed]"
          },
          "metadata": {}
        }
      ]
    },
    {
      "cell_type": "code",
      "source": [
        "print(df.loc[2, 'ScheduledDay']) # Muestra el valor completo de la primera fila\n",
        "print(df['ScheduledDay'].dt.second.unique()) # Muestra todos los valores únicos de segundos"
      ],
      "metadata": {
        "colab": {
          "base_uri": "https://localhost:8080/"
        },
        "id": "0aVOh8_LqKE_",
        "outputId": "c96c804d-df5b-431a-835b-db3c7c22b03e"
      },
      "execution_count": 127,
      "outputs": [
        {
          "output_type": "stream",
          "name": "stdout",
          "text": [
            "2016-04-29 00:00:00\n",
            "[0]\n"
          ]
        }
      ]
    },
    {
      "cell_type": "markdown",
      "source": [
        "### Age"
      ],
      "metadata": {
        "id": "VhayqN_tb7Hd"
      }
    },
    {
      "cell_type": "code",
      "source": [
        "#Verifico tipo de dato\n",
        "df.Age.dtype"
      ],
      "metadata": {
        "colab": {
          "base_uri": "https://localhost:8080/"
        },
        "id": "Cx6GgWO5cP6F",
        "outputId": "44b47dbf-10dd-44dc-df11-199274fcd038"
      },
      "execution_count": 128,
      "outputs": [
        {
          "output_type": "execute_result",
          "data": {
            "text/plain": [
              "dtype('int64')"
            ]
          },
          "metadata": {},
          "execution_count": 128
        }
      ]
    },
    {
      "cell_type": "code",
      "source": [
        "#Verifico si posee nulos\n",
        "edad_nulos = df['Age'].isnull().sum()\n",
        "\n",
        "if edad_nulos == 0:\n",
        "  print(\"La columna 'Age' no posee valores nulos.\")"
      ],
      "metadata": {
        "colab": {
          "base_uri": "https://localhost:8080/"
        },
        "id": "-x58ZOyHdlxT",
        "outputId": "4646a306-4c72-4e15-d657-09103c4d7236"
      },
      "execution_count": 129,
      "outputs": [
        {
          "output_type": "stream",
          "name": "stdout",
          "text": [
            "La columna 'Age' no posee valores nulos.\n"
          ]
        }
      ]
    },
    {
      "cell_type": "code",
      "source": [
        "#Verifico rango de edad que posee el dataset\n",
        "edad_minima = df.Age.min()\n",
        "edad_maxima = df.Age.max()\n",
        "\n",
        "print(f\"Rango de edad: Desde {edad_minima} hasta {edad_maxima}\")"
      ],
      "metadata": {
        "colab": {
          "base_uri": "https://localhost:8080/"
        },
        "id": "ZVtDF59pcWOk",
        "outputId": "e6294f16-57e7-44f9-ee30-a9381685ff38"
      },
      "execution_count": 130,
      "outputs": [
        {
          "output_type": "stream",
          "name": "stdout",
          "text": [
            "Rango de edad: Desde -1 hasta 115\n"
          ]
        }
      ]
    },
    {
      "cell_type": "markdown",
      "source": [
        "Gracias al rango de edad se verifica que el valor -1 es una anomalía, se procede a calcular cuántos valores existen en el dataset con esta anomalía para tomar decisión.\n",
        "\n",
        "Igualmente ocurre con el valor 115 años, si bien es posible que ocurra biológicamente, sin embargo su impacto puede ser menor y no considerarlo puede ser una opción."
      ],
      "metadata": {
        "id": "yrZmmD5GcsWP"
      }
    },
    {
      "cell_type": "code",
      "source": [
        "#Calculo la cantidad de valores -1 en Age del datset\n",
        "cantidad_negativos = (df['Age'] < 0).sum()\n",
        "print(f\"La columna 'Age' posee {cantidad_negativos} valores negativos.\")\n",
        "\n",
        "#Se decide descartar la fila con este valor dado su bajo impacto en la totalidad\n",
        "#de los datos."
      ],
      "metadata": {
        "colab": {
          "base_uri": "https://localhost:8080/"
        },
        "id": "BSm7vv7Gc56r",
        "outputId": "af795ce8-dbde-4ab9-cbd3-be213eef3dee"
      },
      "execution_count": 131,
      "outputs": [
        {
          "output_type": "stream",
          "name": "stdout",
          "text": [
            "La columna 'Age' posee 1 valores negativos.\n"
          ]
        }
      ]
    },
    {
      "cell_type": "code",
      "source": [
        "cantidad_mayores = (df['Age'] == 115).sum()\n",
        "print(f\"La columna 'Age' posee {cantidad_mayores} valores mayores a 115.\")\n",
        "\n",
        "#El dataset posee 5 filas para 115 años, considero que pose bajo impacto\n",
        "#teniendo en cuenta los más de 110000 registros."
      ],
      "metadata": {
        "colab": {
          "base_uri": "https://localhost:8080/"
        },
        "id": "MBj05vaafuz-",
        "outputId": "ec11f548-ef85-46ec-9116-ad18974c3594"
      },
      "execution_count": 132,
      "outputs": [
        {
          "output_type": "stream",
          "name": "stdout",
          "text": [
            "La columna 'Age' posee 5 valores mayores a 115.\n"
          ]
        }
      ]
    },
    {
      "cell_type": "code",
      "source": [
        "#Crea un nuevo DataFrame que contenga solo las filas de df donde la columna\n",
        "#Age sea mayor o igual a cero, y luego reemplaza el DataFrame original.\n",
        "\n",
        "df = df[df['Age'] >= 0]"
      ],
      "metadata": {
        "id": "A-X2d4XmdHal"
      },
      "execution_count": 133,
      "outputs": []
    },
    {
      "cell_type": "code",
      "source": [
        "#Crea un nuevo DataFrame que contenga solo las filas de df donde la columna\n",
        "#Age sea menore a 115, y luego reemplaza el DataFrame original.\n",
        "\n",
        "df = df[df['Age'] < 115]"
      ],
      "metadata": {
        "id": "Tv9NzVfCgM9T"
      },
      "execution_count": 134,
      "outputs": []
    },
    {
      "cell_type": "code",
      "source": [
        "import matplotlib.pyplot as plt\n",
        "\n",
        "plt.figure(figsize=(8, 5))\n",
        "plt.hist(df['Age'], bins=30, edgecolor='black', alpha=0.7)\n",
        "plt.title('Distribución de Edades')\n",
        "plt.xlabel('Edad')\n",
        "plt.ylabel('Número de Pacientes')\n",
        "plt.show()"
      ],
      "metadata": {
        "colab": {
          "base_uri": "https://localhost:8080/",
          "height": 487
        },
        "id": "1bby4W5Wd7nN",
        "outputId": "8ead72f7-ceb3-45a5-9b65-6b38e56e73ed"
      },
      "execution_count": 135,
      "outputs": [
        {
          "output_type": "display_data",
          "data": {
            "text/plain": [
              "<Figure size 800x500 with 1 Axes>"
            ],
            "image/png": "[encoded data removed]"
          },
          "metadata": {}
        }
      ]
    },
    {
      "cell_type": "markdown",
      "source": [
        "En el Histograma se observa un pico principal en la franja de 0 años, recién nacidos o menores de un año.\n",
        "En el resto se observan distintos picos, sin un grupo de edad que domine el conjunto de datos.\n",
        "Los valores se observan en distribución bastante irregular con un descenso luego de los 60 años.\n"
      ],
      "metadata": {
        "id": "LRFr2ykqhxWy"
      }
    },
    {
      "cell_type": "code",
      "source": [
        "import seaborn as sns\n",
        "import matplotlib.pyplot as plt\n",
        "\n",
        "plt.figure(figsize=(6, 4))\n",
        "sns.boxplot(x=df['Age'])\n",
        "plt.title('Diagrama de distribución de edad')\n",
        "plt.xlabel('Edad')\n",
        "plt.show()"
      ],
      "metadata": {
        "colab": {
          "base_uri": "https://localhost:8080/",
          "height": 411
        },
        "id": "q4g5UYiticFH",
        "outputId": "3795191b-d924-4584-8cb0-125523257f59"
      },
      "execution_count": 136,
      "outputs": [
        {
          "output_type": "display_data",
          "data": {
            "text/plain": [
              "<Figure size 600x400 with 1 Axes>"
            ],
            "image/png": "[encoded data removed]"
          },
          "metadata": {}
        }
      ]
    },
    {
      "cell_type": "markdown",
      "source": [
        "Se observa la mediana cercana a los 40 años, lo que implica que la mitad de los pacientes en el dataset tienen 40 años o menos.\n",
        "Dado que en este gráfico la caja representa el 50% central de los datos, se puede observar que los pacientes se concentran entre poco menos de los 20 años a 55 años.\n",
        "La mayoría de las edades se encuentran en un rango razonable."
      ],
      "metadata": {
        "id": "xA8pJQ9-inyQ"
      }
    },
    {
      "cell_type": "markdown",
      "source": [
        "###Neighbourhood"
      ],
      "metadata": {
        "id": "r-DVjAI9k1KP"
      }
    },
    {
      "cell_type": "code",
      "source": [
        "#Verifico tipo de dato\n",
        "df.Neighbourhood.dtype"
      ],
      "metadata": {
        "colab": {
          "base_uri": "https://localhost:8080/"
        },
        "id": "kXtDsrNak3IH",
        "outputId": "40f21d47-4056-4c74-861c-4cdbda6c058e"
      },
      "execution_count": 137,
      "outputs": [
        {
          "output_type": "execute_result",
          "data": {
            "text/plain": [
              "dtype('O')"
            ]
          },
          "metadata": {},
          "execution_count": 137
        }
      ]
    },
    {
      "cell_type": "code",
      "source": [
        "#Verifico valores nulos\n",
        "nulos = df.Neighbourhood.isnull().sum()\n",
        "if nulos == 0:\n",
        "  print(\"La columna 'Neighbourhood' no posee valores nulos.\")\n",
        "else:\n",
        "  print(f\"La columna 'Neighbourhood' posee {nulos} valores nulos.\")"
      ],
      "metadata": {
        "colab": {
          "base_uri": "https://localhost:8080/"
        },
        "id": "s7Hl-npClBVm",
        "outputId": "b23e39eb-d73b-4494-8500-c7554f6fac77"
      },
      "execution_count": 138,
      "outputs": [
        {
          "output_type": "stream",
          "name": "stdout",
          "text": [
            "La columna 'Neighbourhood' no posee valores nulos.\n"
          ]
        }
      ]
    },
    {
      "cell_type": "code",
      "source": [
        "#Verifico la cantidad de barrios únicos en el dataset.\n",
        "print(f'La cantidad de barrios únicos en el dataset es de {df.Neighbourhood.nunique()}')"
      ],
      "metadata": {
        "colab": {
          "base_uri": "https://localhost:8080/"
        },
        "id": "xcgc9M9alGni",
        "outputId": "deafc18c-227f-4bb7-8538-3423b0ab4fa0"
      },
      "execution_count": 139,
      "outputs": [
        {
          "output_type": "stream",
          "name": "stdout",
          "text": [
            "La cantidad de barrios únicos en el dataset es de 81\n"
          ]
        }
      ]
    },
    {
      "cell_type": "code",
      "source": [
        "#Verifico cuáles son los barrios con más citas agendadas, los primeros 10.\n",
        "df.Neighbourhood.value_counts().head(10)"
      ],
      "metadata": {
        "colab": {
          "base_uri": "https://localhost:8080/",
          "height": 429
        },
        "id": "Fp_y4dwXleZy",
        "outputId": "7771e619-a95e-4e16-e811-24e6f46abf58"
      },
      "execution_count": 140,
      "outputs": [
        {
          "output_type": "execute_result",
          "data": {
            "text/plain": [
              "Neighbourhood\n",
              "JARDIM CAMBURI       7717\n",
              "MARIA ORTIZ          5805\n",
              "RESISTÊNCIA          4430\n",
              "JARDIM DA PENHA      3877\n",
              "ITARARÉ              3514\n",
              "CENTRO               3334\n",
              "SANTA MARTHA         3131\n",
              "TABUAZEIRO           3131\n",
              "JESUS DE NAZARETH    2853\n",
              "BONFIM               2773\n",
              "Name: count, dtype: int64"
            ],
            "text/html": [
              "<div>\n",
              "<style scoped>\n",
              "    .dataframe tbody tr th:only-of-type {\n",
              "        vertical-align: middle;\n",
              "    }\n",
              "\n",
              "    .dataframe tbody tr th {\n",
              "        vertical-align: top;\n",
              "    }\n",
              "\n",
              "    .dataframe thead th {\n",
              "        text-align: right;\n",
              "    }\n",
              "</style>\n",
              "<table border=\"1\" class=\"dataframe\">\n",
              "  <thead>\n",
              "    <tr style=\"text-align: right;\">\n",
              "      <th></th>\n",
              "      <th>count</th>\n",
              "    </tr>\n",
              "    <tr>\n",
              "      <th>Neighbourhood</th>\n",
              "      <th></th>\n",
              "    </tr>\n",
              "  </thead>\n",
              "  <tbody>\n",
              "    <tr>\n",
              "      <th>JARDIM CAMBURI</th>\n",
              "      <td>7717</td>\n",
              "    </tr>\n",
              "    <tr>\n",
              "      <th>MARIA ORTIZ</th>\n",
              "      <td>5805</td>\n",
              "    </tr>\n",
              "    <tr>\n",
              "      <th>RESISTÊNCIA</th>\n",
              "      <td>4430</td>\n",
              "    </tr>\n",
              "    <tr>\n",
              "      <th>JARDIM DA PENHA</th>\n",
              "      <td>3877</td>\n",
              "    </tr>\n",
              "    <tr>\n",
              "      <th>ITARARÉ</th>\n",
              "      <td>3514</td>\n",
              "    </tr>\n",
              "    <tr>\n",
              "      <th>CENTRO</th>\n",
              "      <td>3334</td>\n",
              "    </tr>\n",
              "    <tr>\n",
              "      <th>SANTA MARTHA</th>\n",
              "      <td>3131</td>\n",
              "    </tr>\n",
              "    <tr>\n",
              "      <th>TABUAZEIRO</th>\n",
              "      <td>3131</td>\n",
              "    </tr>\n",
              "    <tr>\n",
              "      <th>JESUS DE NAZARETH</th>\n",
              "      <td>2853</td>\n",
              "    </tr>\n",
              "    <tr>\n",
              "      <th>BONFIM</th>\n",
              "      <td>2773</td>\n",
              "    </tr>\n",
              "  </tbody>\n",
              "</table>\n",
              "</div><br><label><b>dtype:</b> int64</label>"
            ]
          },
          "metadata": {},
          "execution_count": 140
        }
      ]
    },
    {
      "cell_type": "code",
      "source": [
        "import matplotlib.pyplot as plt\n",
        "\n",
        "# Seleccionar los 10 barrios con más citas\n",
        "top_10_barrios = df['Neighbourhood'].value_counts().head(10)\n",
        "\n",
        "plt.figure(figsize=(10, 6))\n",
        "top_10_barrios.plot(kind='bar')\n",
        "plt.title('Número de citas médicas por barrio (Top 10)')\n",
        "plt.xlabel('Barrio')\n",
        "plt.ylabel('Número de Citas')\n",
        "plt.xticks(rotation=45, ha='right')\n",
        "plt.show()"
      ],
      "metadata": {
        "colab": {
          "base_uri": "https://localhost:8080/",
          "height": 622
        },
        "id": "sG2zuKzll6Ih",
        "outputId": "1e0a6e79-4f21-4f0d-869c-d2f0f2e4c5c9"
      },
      "execution_count": 141,
      "outputs": [
        {
          "output_type": "display_data",
          "data": {
            "text/plain": [
              "<Figure size 1000x600 with 1 Axes>"
            ],
            "image/png": "[encoded data removed]"
          },
          "metadata": {}
        }
      ]
    },
    {
      "cell_type": "code",
      "source": [
        "#convierto de object a category\n",
        "df['Neighbourhood'] = df['Neighbourhood'].astype('category')\n",
        "df.Neighbourhood.dtype"
      ],
      "metadata": {
        "colab": {
          "base_uri": "https://localhost:8080/"
        },
        "id": "wRGbv7myntzL",
        "outputId": "6005582b-ac45-4c80-f1d9-bb98fea775b9"
      },
      "execution_count": 142,
      "outputs": [
        {
          "output_type": "execute_result",
          "data": {
            "text/plain": [
              "CategoricalDtype(categories=['AEROPORTO', 'ANDORINHAS', 'ANTÔNIO HONÓRIO',\n",
              "                  'ARIOVALDO FAVALESSA', 'BARRO VERMELHO', 'BELA VISTA',\n",
              "                  'BENTO FERREIRA', 'BOA VISTA', 'BONFIM', 'CARATOÍRA',\n",
              "                  'CENTRO', 'COMDUSA', 'CONQUISTA', 'CONSOLAÇÃO', 'CRUZAMENTO',\n",
              "                  'DA PENHA', 'DE LOURDES', 'DO CABRAL', 'DO MOSCOSO',\n",
              "                  'DO QUADRO', 'ENSEADA DO SUÁ', 'ESTRELINHA', 'FONTE GRANDE',\n",
              "                  'FORTE SÃO JOÃO', 'FRADINHOS', 'GOIABEIRAS',\n",
              "                  'GRANDE VITÓRIA', 'GURIGICA', 'HORTO', 'ILHA DAS CAIEIRAS',\n",
              "                  'ILHA DE SANTA MARIA', 'ILHA DO BOI', 'ILHA DO FRADE',\n",
              "                  'ILHA DO PRÍNCIPE', 'ILHAS OCEÂNICAS DE TRINDADE',\n",
              "                  'INHANGUETÁ', 'ITARARÉ', 'JABOUR', 'JARDIM CAMBURI',\n",
              "                  'JARDIM DA PENHA', 'JESUS DE NAZARETH', 'JOANA D´ARC',\n",
              "                  'JUCUTUQUARA', 'MARIA ORTIZ', 'MARUÍPE', 'MATA DA PRAIA',\n",
              "                  'MONTE BELO', 'MORADA DE CAMBURI', 'MÁRIO CYPRESTE',\n",
              "                  'NAZARETH', 'NOVA PALESTINA', 'PARQUE INDUSTRIAL',\n",
              "                  'PARQUE MOSCOSO', 'PIEDADE', 'PONTAL DE CAMBURI',\n",
              "                  'PRAIA DO CANTO', 'PRAIA DO SUÁ', 'REDENÇÃO', 'REPÚBLICA',\n",
              "                  'RESISTÊNCIA', 'ROMÃO', 'SANTA CECÍLIA', 'SANTA CLARA',\n",
              "                  'SANTA HELENA', 'SANTA LUÍZA', 'SANTA LÚCIA', 'SANTA MARTHA',\n",
              "                  'SANTA TEREZA', 'SANTO ANDRÉ', 'SANTO ANTÔNIO',\n",
              "                  'SANTOS DUMONT', 'SANTOS REIS', 'SEGURANÇA DO LAR',\n",
              "                  'SOLON BORGES', 'SÃO BENEDITO', 'SÃO CRISTÓVÃO', 'SÃO JOSÉ',\n",
              "                  'SÃO PEDRO', 'TABUAZEIRO', 'UNIVERSITÁRIO', 'VILA RUBIM'],\n",
              ", ordered=False, categories_dtype=object)"
            ]
          },
          "metadata": {},
          "execution_count": 142
        }
      ]
    },
    {
      "cell_type": "markdown",
      "source": [
        "###Columnas binarias\n",
        "Se realiza un análisis mediante la utilización de un ciclo FOR, en base a los resultados que presente se irán tomando las decisiones correspondientes.\n",
        "Las columnas que se analizarán de esta manera son: Scholarship, Hipertension, Diabetes, Alcoholism, Handcap, SMS_received\n"
      ],
      "metadata": {
        "id": "Tt5FSKuzpfSi"
      }
    },
    {
      "cell_type": "code",
      "source": [
        "#Análisis mediante FOR de las columnas binarias.\n",
        "\n",
        "# Lista de columnas a analizar\n",
        "columnas_binarias = ['Scholarship', 'Hipertension', 'Diabetes', 'Alcoholism', 'Handcap', 'SMS_received']\n",
        "\n",
        "# Itera sobre cada columna\n",
        "for col in columnas_binarias:\n",
        "    print(f\"--- Análisis de la columna: '{col}' ---\")\n",
        "\n",
        "    # 1. Verificar nulos\n",
        "    nulos = df[col].isnull().sum()\n",
        "    print(f\"Número de valores nulos: {nulos}\")\n",
        "\n",
        "    # 2. Verificar el tipo de dato\n",
        "    dtype = df[col].dtype\n",
        "    print(f\"Tipo de dato: {dtype}\")\n",
        "\n",
        "    # 3. Verificar valores únicos\n",
        "    valores_unicos = df[col].unique()\n",
        "    print(f\"Valores únicos: {valores_unicos}\")\n",
        "\n",
        "    # 4. Calcular la proporción de cada valor\n",
        "    proporcion = df[col].value_counts(normalize=True).round(2)\n",
        "    print(\"Proporción de valores:\")\n",
        "    print(proporcion)\n",
        "\n",
        "    print(\"\\n\" + \"=\"*50 + \"\\n\")"
      ],
      "metadata": {
        "colab": {
          "base_uri": "https://localhost:8080/"
        },
        "id": "Sv-MPtPUp60W",
        "outputId": "4ad8bcbe-eb4e-49f8-cbec-a753a0e4b7da"
      },
      "execution_count": 143,
      "outputs": [
        {
          "output_type": "stream",
          "name": "stdout",
          "text": [
            "--- Análisis de la columna: 'Scholarship' ---\n",
            "Número de valores nulos: 0\n",
            "Tipo de dato: int64\n",
            "Valores únicos: [0 1]\n",
            "Proporción de valores:\n",
            "Scholarship\n",
            "0    0.9\n",
            "1    0.1\n",
            "Name: proportion, dtype: float64\n",
            "\n",
            "==================================================\n",
            "\n",
            "--- Análisis de la columna: 'Hipertension' ---\n",
            "Número de valores nulos: 0\n",
            "Tipo de dato: int64\n",
            "Valores únicos: [1 0]\n",
            "Proporción de valores:\n",
            "Hipertension\n",
            "0    0.8\n",
            "1    0.2\n",
            "Name: proportion, dtype: float64\n",
            "\n",
            "==================================================\n",
            "\n",
            "--- Análisis de la columna: 'Diabetes' ---\n",
            "Número de valores nulos: 0\n",
            "Tipo de dato: int64\n",
            "Valores únicos: [0 1]\n",
            "Proporción de valores:\n",
            "Diabetes\n",
            "0    0.93\n",
            "1    0.07\n",
            "Name: proportion, dtype: float64\n",
            "\n",
            "==================================================\n",
            "\n",
            "--- Análisis de la columna: 'Alcoholism' ---\n",
            "Número de valores nulos: 0\n",
            "Tipo de dato: int64\n",
            "Valores únicos: [0 1]\n",
            "Proporción de valores:\n",
            "Alcoholism\n",
            "0    0.97\n",
            "1    0.03\n",
            "Name: proportion, dtype: float64\n",
            "\n",
            "==================================================\n",
            "\n",
            "--- Análisis de la columna: 'Handcap' ---\n",
            "Número de valores nulos: 0\n",
            "Tipo de dato: int64\n",
            "Valores únicos: [0 1 2 3 4]\n",
            "Proporción de valores:\n",
            "Handcap\n",
            "0    0.98\n",
            "1    0.02\n",
            "2    0.00\n",
            "3    0.00\n",
            "4    0.00\n",
            "Name: proportion, dtype: float64\n",
            "\n",
            "==================================================\n",
            "\n",
            "--- Análisis de la columna: 'SMS_received' ---\n",
            "Número de valores nulos: 0\n",
            "Tipo de dato: int64\n",
            "Valores únicos: [0 1]\n",
            "Proporción de valores:\n",
            "SMS_received\n",
            "0    0.68\n",
            "1    0.32\n",
            "Name: proportion, dtype: float64\n",
            "\n",
            "==================================================\n",
            "\n"
          ]
        }
      ]
    },
    {
      "cell_type": "markdown",
      "source": [
        "Del análisis de las columnas binarias, observo que Handcap posee 3 valores a investigar por posibilidad de atípicos (2, 3 y 4)"
      ],
      "metadata": {
        "id": "SVRpxDNM3a7c"
      }
    },
    {
      "cell_type": "code",
      "source": [
        "#Verifico la cantidad de valores únicos.\n",
        "df['Handcap'].value_counts()"
      ],
      "metadata": {
        "colab": {
          "base_uri": "https://localhost:8080/",
          "height": 272
        },
        "id": "AH775YPS4pHe",
        "outputId": "7cc3c3c5-ea80-43af-a9c1-83c61a65df2d"
      },
      "execution_count": 144,
      "outputs": [
        {
          "output_type": "execute_result",
          "data": {
            "text/plain": [
              "Handcap\n",
              "0    108281\n",
              "1      2036\n",
              "2       183\n",
              "3        13\n",
              "4         3\n",
              "Name: count, dtype: int64"
            ],
            "text/html": [
              "<div>\n",
              "<style scoped>\n",
              "    .dataframe tbody tr th:only-of-type {\n",
              "        vertical-align: middle;\n",
              "    }\n",
              "\n",
              "    .dataframe tbody tr th {\n",
              "        vertical-align: top;\n",
              "    }\n",
              "\n",
              "    .dataframe thead th {\n",
              "        text-align: right;\n",
              "    }\n",
              "</style>\n",
              "<table border=\"1\" class=\"dataframe\">\n",
              "  <thead>\n",
              "    <tr style=\"text-align: right;\">\n",
              "      <th></th>\n",
              "      <th>count</th>\n",
              "    </tr>\n",
              "    <tr>\n",
              "      <th>Handcap</th>\n",
              "      <th></th>\n",
              "    </tr>\n",
              "  </thead>\n",
              "  <tbody>\n",
              "    <tr>\n",
              "      <th>0</th>\n",
              "      <td>108281</td>\n",
              "    </tr>\n",
              "    <tr>\n",
              "      <th>1</th>\n",
              "      <td>2036</td>\n",
              "    </tr>\n",
              "    <tr>\n",
              "      <th>2</th>\n",
              "      <td>183</td>\n",
              "    </tr>\n",
              "    <tr>\n",
              "      <th>3</th>\n",
              "      <td>13</td>\n",
              "    </tr>\n",
              "    <tr>\n",
              "      <th>4</th>\n",
              "      <td>3</td>\n",
              "    </tr>\n",
              "  </tbody>\n",
              "</table>\n",
              "</div><br><label><b>dtype:</b> int64</label>"
            ]
          },
          "metadata": {},
          "execution_count": 144
        }
      ]
    },
    {
      "cell_type": "markdown",
      "source": [
        "Dado que la columna Handcap indica con 0 la ausencia de discapacidad, y 1 la presencia de discapacidad, los valores 2, 3 y 4 pueden ser interpretados formando parte de 1 (con discapacidad).\n",
        "Otra posibilidad es descartar esos registros, sin embargo se llevará adelante la adecuación integrando las filas con valores 2, 3 y 4 dentro de 1."
      ],
      "metadata": {
        "id": "QRUEXJoc494k"
      }
    },
    {
      "cell_type": "code",
      "source": [
        "#Todos los valores mayores a 0 serán registrados como 1, sin importar si fue 2, 3 o 4.\n",
        "#Mantengo los valores 0 sin cambios.\n",
        "\n",
        "df.loc[df['Handcap'] > 0, 'Handcap'] = 1\n",
        "df.loc[df['Handcap'] == 0, 'Handcap'] = 0\n",
        "\n",
        "df['Handcap'].value_counts()"
      ],
      "metadata": {
        "colab": {
          "base_uri": "https://localhost:8080/",
          "height": 178
        },
        "id": "TJMKWcZx5SLa",
        "outputId": "cfe52024-4b5f-42ff-a51d-c7c7d58ef2b6"
      },
      "execution_count": 145,
      "outputs": [
        {
          "output_type": "execute_result",
          "data": {
            "text/plain": [
              "Handcap\n",
              "0    108281\n",
              "1      2235\n",
              "Name: count, dtype: int64"
            ],
            "text/html": [
              "<div>\n",
              "<style scoped>\n",
              "    .dataframe tbody tr th:only-of-type {\n",
              "        vertical-align: middle;\n",
              "    }\n",
              "\n",
              "    .dataframe tbody tr th {\n",
              "        vertical-align: top;\n",
              "    }\n",
              "\n",
              "    .dataframe thead th {\n",
              "        text-align: right;\n",
              "    }\n",
              "</style>\n",
              "<table border=\"1\" class=\"dataframe\">\n",
              "  <thead>\n",
              "    <tr style=\"text-align: right;\">\n",
              "      <th></th>\n",
              "      <th>count</th>\n",
              "    </tr>\n",
              "    <tr>\n",
              "      <th>Handcap</th>\n",
              "      <th></th>\n",
              "    </tr>\n",
              "  </thead>\n",
              "  <tbody>\n",
              "    <tr>\n",
              "      <th>0</th>\n",
              "      <td>108281</td>\n",
              "    </tr>\n",
              "    <tr>\n",
              "      <th>1</th>\n",
              "      <td>2235</td>\n",
              "    </tr>\n",
              "  </tbody>\n",
              "</table>\n",
              "</div><br><label><b>dtype:</b> int64</label>"
            ]
          },
          "metadata": {},
          "execution_count": 145
        }
      ]
    },
    {
      "cell_type": "code",
      "source": [
        "#La nueva proporción de Handcap queda:\n",
        "proporcion_handcap = df['Handcap'].value_counts(normalize=True).round(2)\n",
        "print(\"Proporción de valores:\")\n",
        "print(proporcion_handcap)\n"
      ],
      "metadata": {
        "colab": {
          "base_uri": "https://localhost:8080/"
        },
        "id": "erG-mixy6Lmh",
        "outputId": "92f43cb4-64bf-4542-e50d-a1aa3aab4c61"
      },
      "execution_count": 146,
      "outputs": [
        {
          "output_type": "stream",
          "name": "stdout",
          "text": [
            "Proporción de valores:\n",
            "Handcap\n",
            "0    0.98\n",
            "1    0.02\n",
            "Name: proportion, dtype: float64\n"
          ]
        }
      ]
    },
    {
      "cell_type": "markdown",
      "source": [
        "###No_show (Variable objetivo)"
      ],
      "metadata": {
        "id": "hWYoJqp69ebc"
      }
    },
    {
      "cell_type": "code",
      "source": [
        "#Verifico tipo de dato\n",
        "df.No_show.dtype"
      ],
      "metadata": {
        "colab": {
          "base_uri": "https://localhost:8080/"
        },
        "id": "xt30k98-91oK",
        "outputId": "68cf519b-6f2c-4c5c-d7f5-63a0db81126d"
      },
      "execution_count": 147,
      "outputs": [
        {
          "output_type": "execute_result",
          "data": {
            "text/plain": [
              "dtype('O')"
            ]
          },
          "metadata": {},
          "execution_count": 147
        }
      ]
    },
    {
      "cell_type": "code",
      "source": [
        "#verifico si hay nulos\n",
        "nulos = df.No_show.isnull().sum()\n",
        "if nulos == 0:\n",
        "  print(\"La columna 'No_show' no posee valores nulos.\")\n",
        "else:\n",
        "  print(f\"La columna 'No_show' posee {nulos} valores nulos.\")"
      ],
      "metadata": {
        "colab": {
          "base_uri": "https://localhost:8080/"
        },
        "id": "D7HF1o0k_1Ov",
        "outputId": "5ded6a9b-758d-4432-afc9-ab1e5a137f6f"
      },
      "execution_count": 148,
      "outputs": [
        {
          "output_type": "stream",
          "name": "stdout",
          "text": [
            "La columna 'No_show' no posee valores nulos.\n"
          ]
        }
      ]
    },
    {
      "cell_type": "code",
      "source": [
        "#Verifico la cantidad de valores\n",
        "df.No_show.value_counts()"
      ],
      "metadata": {
        "colab": {
          "base_uri": "https://localhost:8080/",
          "height": 178
        },
        "id": "IRKtKTNC__Sf",
        "outputId": "075afdce-5827-4857-9258-eed4fa85ca96"
      },
      "execution_count": 149,
      "outputs": [
        {
          "output_type": "execute_result",
          "data": {
            "text/plain": [
              "No_show\n",
              "No     88205\n",
              "Yes    22311\n",
              "Name: count, dtype: int64"
            ],
            "text/html": [
              "<div>\n",
              "<style scoped>\n",
              "    .dataframe tbody tr th:only-of-type {\n",
              "        vertical-align: middle;\n",
              "    }\n",
              "\n",
              "    .dataframe tbody tr th {\n",
              "        vertical-align: top;\n",
              "    }\n",
              "\n",
              "    .dataframe thead th {\n",
              "        text-align: right;\n",
              "    }\n",
              "</style>\n",
              "<table border=\"1\" class=\"dataframe\">\n",
              "  <thead>\n",
              "    <tr style=\"text-align: right;\">\n",
              "      <th></th>\n",
              "      <th>count</th>\n",
              "    </tr>\n",
              "    <tr>\n",
              "      <th>No_show</th>\n",
              "      <th></th>\n",
              "    </tr>\n",
              "  </thead>\n",
              "  <tbody>\n",
              "    <tr>\n",
              "      <th>No</th>\n",
              "      <td>88205</td>\n",
              "    </tr>\n",
              "    <tr>\n",
              "      <th>Yes</th>\n",
              "      <td>22311</td>\n",
              "    </tr>\n",
              "  </tbody>\n",
              "</table>\n",
              "</div><br><label><b>dtype:</b> int64</label>"
            ]
          },
          "metadata": {},
          "execution_count": 149
        }
      ]
    },
    {
      "cell_type": "markdown",
      "source": [
        "No_show es una variable categórica binaria con valores \"YES\" y \"NO\".\n",
        "En esta etapa de pre procesamiento es una buena práctica profesional convertir a INT.\n",
        "Esto es así dado que los algoritmos de clasificación no pueden procesar directamente valores de texto.\n",
        "De esta manera, ya tengo preparada la columna para esa etapa."
      ],
      "metadata": {
        "id": "85YDH1tfBuoW"
      }
    },
    {
      "cell_type": "code",
      "source": [
        "#convierto de object a numérico.\n",
        "df['No_show'] = df['No_show'].map({'Yes': 1, 'No': 0})\n",
        "df.No_show.dtype"
      ],
      "metadata": {
        "colab": {
          "base_uri": "https://localhost:8080/"
        },
        "id": "4bU46fhFAWRn",
        "outputId": "8fb880ed-023b-42d0-da75-f98fbb6201a1"
      },
      "execution_count": 150,
      "outputs": [
        {
          "output_type": "execute_result",
          "data": {
            "text/plain": [
              "dtype('int64')"
            ]
          },
          "metadata": {},
          "execution_count": 150
        }
      ]
    },
    {
      "cell_type": "markdown",
      "source": [
        "## Hipótesis 1:\n",
        "###La tasa de inasistencia por cita es significativamente menor cuando se ha recibido un mensaje de texto (SMS) de recordatorio."
      ],
      "metadata": {
        "id": "kixscX6kDuyu"
      }
    },
    {
      "cell_type": "code",
      "source": [
        "#Diagnóstico de la variable SMS\n",
        "proporcion_sms = df.SMS_received.value_counts(normalize=True).round(2)\n",
        "print(f\"Proporción de valores: {proporcion_sms}\")\n"
      ],
      "metadata": {
        "colab": {
          "base_uri": "https://localhost:8080/"
        },
        "id": "moo3t0fkEF6I",
        "outputId": "aedf3580-8890-4538-b4f7-992caea38aac"
      },
      "execution_count": 151,
      "outputs": [
        {
          "output_type": "stream",
          "name": "stdout",
          "text": [
            "Proporción de valores: SMS_received\n",
            "0    0.68\n",
            "1    0.32\n",
            "Name: proportion, dtype: float64\n"
          ]
        }
      ]
    },
    {
      "cell_type": "code",
      "source": [
        "#Grafico pie chart de SMS_received\n",
        "import matplotlib.pyplot as plt\n",
        "conteo_sms = df['SMS_received'].value_counts()\n",
        "plt.pie(conteo_sms, labels=['No','Sí'], autopct='%1.1f%%', colors=['pink','skyblue'])\n",
        "plt.title('Distribución de SMS_received')\n",
        "plt.show()"
      ],
      "metadata": {
        "colab": {
          "base_uri": "https://localhost:8080/",
          "height": 429
        },
        "id": "jS8zbYrvEvuZ",
        "outputId": "1a6abded-913e-472b-ba53-330d6581368b"
      },
      "execution_count": 152,
      "outputs": [
        {
          "output_type": "display_data",
          "data": {
            "text/plain": [
              "<Figure size 640x480 with 1 Axes>"
            ],
            "image/png": "[encoded data removed]"
          },
          "metadata": {}
        }
      ]
    },
    {
      "cell_type": "code",
      "source": [
        "df.SMS_received.value_counts()"
      ],
      "metadata": {
        "colab": {
          "base_uri": "https://localhost:8080/",
          "height": 178
        },
        "id": "OC70Y6ceIm13",
        "outputId": "584fb126-4508-489e-c44c-c068eedefa2d"
      },
      "execution_count": 153,
      "outputs": [
        {
          "output_type": "execute_result",
          "data": {
            "text/plain": [
              "SMS_received\n",
              "0    75035\n",
              "1    35481\n",
              "Name: count, dtype: int64"
            ],
            "text/html": [
              "<div>\n",
              "<style scoped>\n",
              "    .dataframe tbody tr th:only-of-type {\n",
              "        vertical-align: middle;\n",
              "    }\n",
              "\n",
              "    .dataframe tbody tr th {\n",
              "        vertical-align: top;\n",
              "    }\n",
              "\n",
              "    .dataframe thead th {\n",
              "        text-align: right;\n",
              "    }\n",
              "</style>\n",
              "<table border=\"1\" class=\"dataframe\">\n",
              "  <thead>\n",
              "    <tr style=\"text-align: right;\">\n",
              "      <th></th>\n",
              "      <th>count</th>\n",
              "    </tr>\n",
              "    <tr>\n",
              "      <th>SMS_received</th>\n",
              "      <th></th>\n",
              "    </tr>\n",
              "  </thead>\n",
              "  <tbody>\n",
              "    <tr>\n",
              "      <th>0</th>\n",
              "      <td>75035</td>\n",
              "    </tr>\n",
              "    <tr>\n",
              "      <th>1</th>\n",
              "      <td>35481</td>\n",
              "    </tr>\n",
              "  </tbody>\n",
              "</table>\n",
              "</div><br><label><b>dtype:</b> int64</label>"
            ]
          },
          "metadata": {},
          "execution_count": 153
        }
      ]
    },
    {
      "cell_type": "code",
      "source": [
        "#Verifico la tasa de inasistencia respecto a la recepción de SMS.\n",
        "tasa_no_show_por_sms = df.groupby('SMS_received')['No_show'].value_counts(normalize=True).unstack().round(3)\n",
        "\n",
        "print(\"Tasa de Inasistencia por Recepción de SMS: \")\n",
        "print(tasa_no_show_por_sms)"
      ],
      "metadata": {
        "colab": {
          "base_uri": "https://localhost:8080/"
        },
        "id": "3GRjouTsgO41",
        "outputId": "6fcfc5c4-2ad1-4c21-894e-7079b16e9960"
      },
      "execution_count": 154,
      "outputs": [
        {
          "output_type": "stream",
          "name": "stdout",
          "text": [
            "Tasa de Inasistencia por Recepción de SMS: \n",
            "No_show           0      1\n",
            "SMS_received              \n",
            "0             0.833  0.167\n",
            "1             0.724  0.276\n"
          ]
        }
      ]
    },
    {
      "cell_type": "code",
      "source": [
        "#Creo un gráfico de barras acumuladas donde comparo sms_received con No_show\n",
        "#para confirmar o refutar la hipótesis 1."
      ],
      "metadata": {
        "id": "ejOQ-s7dGEWp"
      },
      "execution_count": 155,
      "outputs": []
    },
    {
      "cell_type": "code",
      "metadata": {
        "colab": {
          "base_uri": "https://localhost:8080/",
          "height": 411
        },
        "id": "2be7c25f",
        "outputId": "f43d7fe7-b154-410a-ad75-e11758f1ef88"
      },
      "source": [
        "import matplotlib.pyplot as plt\n",
        "import seaborn as sns\n",
        "\n",
        "# Crear el gráfico de barras para la hipótesis\n",
        "plt.figure(figsize=(8, 4))\n",
        "sns.countplot(data=df, x='SMS_received', hue='No_show', palette='viridis')\n",
        "plt.title('Distribución de Inasistencias por Recepción de SMS')\n",
        "plt.xlabel('SMS Recibido (0: No, 1: Si)')\n",
        "plt.ylabel('Cantidad de citas médicas agendadas')\n",
        "plt.legend(title='Se Presentó', labels=['Si', 'No'])\n",
        "plt.show()"
      ],
      "execution_count": 156,
      "outputs": [
        {
          "output_type": "display_data",
          "data": {
            "text/plain": [
              "<Figure size 800x400 with 1 Axes>"
            ],
            "image/png": "[encoded data removed]"
          },
          "metadata": {}
        }
      ]
    },
    {
      "cell_type": "markdown",
      "source": [
        "###Conclusión respecto a la hipótesis 1\n",
        "\n",
        "La hipótesis 1 es refutada según el análisis numérico y gráfico.\n",
        "\n",
        "La tasa de inasistencia para las citas médicas agendadas donde el paciente recibió un SMS fue del 27.6%, mientras que en las citas donde no se recibió un SMS, la tasa fue del 16.7%.\n",
        "\n",
        "Este hallazgo indica que los pacientes que reciben un recordatorio tienen una mayor propensión a no presentarse.\n",
        "\n",
        "Aunque contraintuitivo, es probable (Debiera analizarse con otro set de datos) que el envío de SMS esté orientado a pacientes con riesgo a ausentarse.\n",
        "\n",
        "También debiera analizarse la política de envío de SMS."
      ],
      "metadata": {
        "id": "oo8vko4tiY3I"
      }
    },
    {
      "cell_type": "markdown",
      "source": [
        "##Hipótesis 2\n",
        "###Los pacientes que agendan su cita con mucha antelación son más propensos a no asistir."
      ],
      "metadata": {
        "id": "9xqgYUqomPZc"
      }
    },
    {
      "cell_type": "markdown",
      "source": [
        "Para confirmar o refutar esta hipótesis se procede a realizar un análisis numérico y gráfico.\n",
        "\n",
        "Lo que se busca es analizar la distribución en el rango de valores de DaysBeeween en relación con la variable objetivo (No_show)\n"
      ],
      "metadata": {
        "id": "9hZaTdl4kHvK"
      }
    },
    {
      "cell_type": "code",
      "source": [
        "import pandas as pd\n",
        "import matplotlib.pyplot as plt\n",
        "import seaborn as sns\n",
        "\n",
        "sns.set_style('whitegrid')\n",
        "plt.figure(figsize=(15, 6))\n",
        "\n",
        "# Gráfico 1: Histograma de la distribución del tiempo de espera\n",
        "plt.subplot(1, 2, 1)\n",
        "sns.histplot(data=df, x='DaysBeetween', bins=30, kde=True)\n",
        "plt.title('Distribución del Tiempo de Espera')\n",
        "plt.xlabel('Tiempo de Espera (días)')\n",
        "plt.ylabel('Frecuencia')"
      ],
      "metadata": {
        "colab": {
          "base_uri": "https://localhost:8080/",
          "height": 583
        },
        "id": "1O7wNikMkfde",
        "outputId": "a1d6e578-7830-4216-fe5c-e9b9d7a04855"
      },
      "execution_count": 157,
      "outputs": [
        {
          "output_type": "execute_result",
          "data": {
            "text/plain": [
              "Text(0, 0.5, 'Frecuencia')"
            ]
          },
          "metadata": {},
          "execution_count": 157
        },
        {
          "output_type": "display_data",
          "data": {
            "text/plain": [
              "<Figure size 1500x600 with 1 Axes>"
            ],
            "image/png": "[encoded data removed]"
          },
          "metadata": {}
        }
      ]
    },
    {
      "cell_type": "code",
      "source": [
        "\n",
        "plt.subplot(1, 2, 2)\n",
        "sns.boxplot(data=df, x='DaysBeetween')\n",
        "plt.title('Boxplot del Tiempo de Espera')\n",
        "plt.xlabel('Tiempo de Espera (días)')\n",
        "\n",
        "plt.tight_layout()\n",
        "plt.show()"
      ],
      "metadata": {
        "colab": {
          "base_uri": "https://localhost:8080/",
          "height": 487
        },
        "id": "wzNBI0vLmdKF",
        "outputId": "608ec7e8-534e-4e04-b770-7951b576c3e4"
      },
      "execution_count": 158,
      "outputs": [
        {
          "output_type": "display_data",
          "data": {
            "text/plain": [
              "<Figure size 640x480 with 1 Axes>"
            ],
            "image/png": "[encoded data removed]"
          },
          "metadata": {}
        }
      ]
    },
    {
      "cell_type": "markdown",
      "source": [
        "Del análisis del histograma y del bloxplot se observa un fuerte sesgo hacia la derecha, lo que indica que la gran mayoría de los turnos se agendan con pocos días de anticipación.\n",
        "Además, se observan gran cantidad de valores outliers.\n",
        "\n",
        "Al ser sesgada, es preferible trabajar con la mediana antes que con el promedio, por su robustez ante los valores atípicos que se observan en la columna.\n"
      ],
      "metadata": {
        "id": "AJrtTRAtni2C"
      }
    },
    {
      "cell_type": "code",
      "source": [
        "#Cálculo de mediana.\n",
        "\n",
        "mediana_dias = df['DaysBeetween'].median()\n",
        "print(f\"La mediana del tiempo de espera es: {mediana_dias} días\")"
      ],
      "metadata": {
        "colab": {
          "base_uri": "https://localhost:8080/"
        },
        "id": "EWC0qgnlozFi",
        "outputId": "95049de1-2ee4-46e3-932b-51e1ebba9d46"
      },
      "execution_count": 159,
      "outputs": [
        {
          "output_type": "stream",
          "name": "stdout",
          "text": [
            "La mediana del tiempo de espera es: 4.0 días\n"
          ]
        }
      ]
    },
    {
      "cell_type": "code",
      "source": [
        "#Cálculo de media\n",
        "media_dias = df['DaysBeetween'].mean()\n",
        "print(f\"La media del tiempo de espera es: {media_dias.round(2)} días\")"
      ],
      "metadata": {
        "colab": {
          "base_uri": "https://localhost:8080/"
        },
        "id": "O0hk6pGKpLZP",
        "outputId": "f1eb98a0-a162-47e0-ce52-851fa32a6767"
      },
      "execution_count": 160,
      "outputs": [
        {
          "output_type": "stream",
          "name": "stdout",
          "text": [
            "La media del tiempo de espera es: 10.18 días\n"
          ]
        }
      ]
    },
    {
      "cell_type": "markdown",
      "source": [
        "De la visualización de los gráficos, la mediana es la que representa mejor la tendencia que se observa."
      ],
      "metadata": {
        "id": "RNREK8jRpbxn"
      }
    },
    {
      "cell_type": "code",
      "source": [
        "#Análisis descriptivo por grupo\n",
        "analisis_descriptivo = df.groupby('No_show')['DaysBeetween'].describe().round(2)\n",
        "print(\"Análisis Descriptivo del Tiempo de Espera por Estatus de Asistencia:\")\n",
        "print(analisis_descriptivo)"
      ],
      "metadata": {
        "colab": {
          "base_uri": "https://localhost:8080/"
        },
        "id": "fc40OjODzvyL",
        "outputId": "c5ae452b-a615-4235-f61a-d01576e7d306"
      },
      "execution_count": 161,
      "outputs": [
        {
          "output_type": "stream",
          "name": "stdout",
          "text": [
            "Análisis Descriptivo del Tiempo de Espera por Estatus de Asistencia:\n",
            "           count   mean    std  min  25%   50%   75%    max\n",
            "No_show                                                    \n",
            "0        88205.0   8.75  14.55  0.0  0.0   2.0  12.0  179.0\n",
            "1        22311.0  15.84  16.61  0.0  4.0  11.0  23.0  179.0\n"
          ]
        }
      ]
    },
    {
      "cell_type": "code",
      "source": [
        "plt.figure(figsize=(8, 4))\n",
        "sns.boxplot(x='No_show', y='DaysBeetween', data=df, palette='viridis')\n",
        "plt.title('Distribución del Tiempo de Espera por Estatus de Asistencia')\n",
        "plt.xlabel('Asistencia (No: Presente, Yes: Ausente)')\n",
        "plt.ylabel('Tiempo de Espera (días)')\n",
        "plt.ylim(0, 100)\n",
        "plt.show()"
      ],
      "metadata": {
        "colab": {
          "base_uri": "https://localhost:8080/",
          "height": 520
        },
        "id": "MXIhRPHl0KLL",
        "outputId": "2760f1ca-3475-4752-811b-efbcf15fe7d6"
      },
      "execution_count": 162,
      "outputs": [
        {
          "output_type": "stream",
          "name": "stderr",
          "text": [
            "/tmp/ipython-input-2721445576.py:2: FutureWarning: \n",
            "\n",
            "Passing `palette` without assigning `hue` is deprecated and will be removed in v0.14.0. Assign the `x` variable to `hue` and set `legend=False` for the same effect.\n",
            "\n",
            "  sns.boxplot(x='No_show', y='DaysBeetween', data=df, palette='viridis')\n"
          ]
        },
        {
          "output_type": "display_data",
          "data": {
            "text/plain": [
              "<Figure size 800x400 with 1 Axes>"
            ],
            "image/png": "[encoded data removed]"
          },
          "metadata": {}
        }
      ]
    },
    {
      "cell_type": "markdown",
      "source": [
        "La mediana de los pacientes que faltaron a su cita es de 11 días, mientras que para los que asistieron es de solo 2 días.\n",
        "\n",
        "Esto significa que el 50% de los pacientes que se ausentaron de la cita médica agendada, habían agendado la cita médica con 11 días o más de anticipación.\n",
        "\n",
        "El 75% de los pacientes que asistieron agendaron su cita médica con 12 días o menos de espera, mientras que el 75% de los que no asistieron, agendaron su cita con 23 días o más de espera.\n",
        "\n",
        "Este análisis pone de manifiesto que la hipótesis se ve confirmada, mientras más tiempo separe el agendamiento de la cita médica, más probable es que el paciente se ausente (No_show = 1).\n",
        "\n",
        "Además en el gráfico se observa que los pacientes que se ausentaron de su cita médica previamente agendada tiene su mediana \"más alta\" que los que asistieron, indicando mayor cantidad de días de espera (11 días).\n",
        "\n",
        "Por otro lado, la caja es más alta y ancha, esto demuestra que el 50% central de los pacientes que no asistieron tuvo una mayor variabilidad en su tiempo de espera.\n",
        "\n",
        "Hay muchos valores atípicos (outliers) que se presentan o no se presentan incluso en grandes períodos de tiempo entre el agendamiento y la fecha de la cita médica.\n",
        "\n",
        "En el gráfico también queda de manifiesto la conclusión a la que se llegó en el análisis numérico:\n",
        "\n",
        "Un mayor tiempo de espera está correlacionado con una mayor tasa de inasistencia.\n",
        "\n",
        "La mayoría de los pacientes que faltan a sus citas tienen un tiempo de espera mayor que aquellos que sí asisten."
      ],
      "metadata": {
        "id": "Kfuh73DI5fZC"
      }
    },
    {
      "cell_type": "markdown",
      "source": [
        "##Hipótesis 3\n",
        "###Los pacientes de los grupos de edad extremos (jóvenes y mayores) tienen una tasa de inasistencia más alta que la de los pacientes del grupo de edad intermedio.\n",
        "\n"
      ],
      "metadata": {
        "id": "da0CV_aAoh4P"
      }
    },
    {
      "cell_type": "markdown",
      "source": [
        "Dado que Age es una variable continua. Para poder validar una hipótesis sobre grupos de edad, primero debemos discretizarla en las categorías de \"Joven\", \"Intermedio\" y \"Mayor\"."
      ],
      "metadata": {
        "id": "w5o3z4oeqEG4"
      }
    },
    {
      "cell_type": "code",
      "source": [
        "df['AgeGroup'] = 'Desconocido'\n",
        "df.loc[df['Age'] <= 18, 'AgeGroup'] = 'Joven'\n",
        "df.loc[(df['Age'] > 18) & (df['Age'] <= 60), 'AgeGroup'] = 'Intermedio'\n",
        "df.loc[df['Age'] > 60, 'AgeGroup'] = 'Mayor'\n",
        "df.AgeGroup.value_counts()\n"
      ],
      "metadata": {
        "colab": {
          "base_uri": "https://localhost:8080/",
          "height": 210
        },
        "id": "OjUMCb53qjzD",
        "outputId": "c233b814-4f97-4ac2-fc77-a5da09a47df9"
      },
      "execution_count": 163,
      "outputs": [
        {
          "output_type": "execute_result",
          "data": {
            "text/plain": [
              "AgeGroup\n",
              "Intermedio    61895\n",
              "Joven         28865\n",
              "Mayor         19756\n",
              "Name: count, dtype: int64"
            ],
            "text/html": [
              "<div>\n",
              "<style scoped>\n",
              "    .dataframe tbody tr th:only-of-type {\n",
              "        vertical-align: middle;\n",
              "    }\n",
              "\n",
              "    .dataframe tbody tr th {\n",
              "        vertical-align: top;\n",
              "    }\n",
              "\n",
              "    .dataframe thead th {\n",
              "        text-align: right;\n",
              "    }\n",
              "</style>\n",
              "<table border=\"1\" class=\"dataframe\">\n",
              "  <thead>\n",
              "    <tr style=\"text-align: right;\">\n",
              "      <th></th>\n",
              "      <th>count</th>\n",
              "    </tr>\n",
              "    <tr>\n",
              "      <th>AgeGroup</th>\n",
              "      <th></th>\n",
              "    </tr>\n",
              "  </thead>\n",
              "  <tbody>\n",
              "    <tr>\n",
              "      <th>Intermedio</th>\n",
              "      <td>61895</td>\n",
              "    </tr>\n",
              "    <tr>\n",
              "      <th>Joven</th>\n",
              "      <td>28865</td>\n",
              "    </tr>\n",
              "    <tr>\n",
              "      <th>Mayor</th>\n",
              "      <td>19756</td>\n",
              "    </tr>\n",
              "  </tbody>\n",
              "</table>\n",
              "</div><br><label><b>dtype:</b> int64</label>"
            ]
          },
          "metadata": {},
          "execution_count": 163
        }
      ]
    },
    {
      "cell_type": "markdown",
      "source": [
        "Se procede a agrupar los pacientes en categorías (Joven, Intermedio, Mayor), esto es necesario para facilitar la comparación de la tasa de inasistencia entre los grupos.\n",
        "Esta nueva columna permite analizar la hipótesis."
      ],
      "metadata": {
        "id": "29F4YSMrueym"
      }
    },
    {
      "cell_type": "markdown",
      "source": [
        "Para confirmar o refutar la hipótesis se requiere realizar el análisis a nivel numérico y también mediante visualización de gráfico.\n",
        "\n",
        "Se analiza inicialmente la distribución de las categorías de la columna Agegroup respecto a la asistencia y no asistencia a la cita médica agendada."
      ],
      "metadata": {
        "id": "Ucdk3Oht7u4i"
      }
    },
    {
      "cell_type": "code",
      "source": [
        "tasa_no_show_por_edad = df.groupby('AgeGroup')['No_show'].value_counts(normalize=True).unstack().round(3)\n",
        "print(\"Tasa de inasistencia por grupo de edadd:\")\n",
        "print(tasa_no_show_por_edad.to_markdown(numalign=\"left\", stralign=\"left\"))"
      ],
      "metadata": {
        "colab": {
          "base_uri": "https://localhost:8080/"
        },
        "id": "1z2u4qsj8MxP",
        "outputId": "de384422-e422-48e1-e6a6-a70ec2acba48"
      },
      "execution_count": 164,
      "outputs": [
        {
          "output_type": "stream",
          "name": "stdout",
          "text": [
            "Tasa de inasistencia por grupo de edadd:\n",
            "| AgeGroup   | 0     | 1     |\n",
            "|:-----------|:------|:------|\n",
            "| Intermedio | 0.791 | 0.209 |\n",
            "| Joven      | 0.78  | 0.22  |\n",
            "| Mayor      | 0.848 | 0.152 |\n"
          ]
        }
      ]
    },
    {
      "cell_type": "code",
      "source": [
        "plt.figure(figsize=(8, 4))\n",
        "sns.countplot(data=df, x='AgeGroup', hue='No_show', palette='coolwarm')\n",
        "plt.title('Tasa de inasistencia por grupo de edad')\n",
        "plt.xlabel('Grupo de edad')\n",
        "plt.ylabel('Cantidad de citas agendadas')\n",
        "plt.legend(title='Se Presentó', labels=['Sí', 'No'])\n",
        "plt.show()\n"
      ],
      "metadata": {
        "colab": {
          "base_uri": "https://localhost:8080/",
          "height": 410
        },
        "id": "8UPw-oXg8aJm",
        "outputId": "6b3dd262-8fa5-4149-bae7-177ef9de6329"
      },
      "execution_count": 165,
      "outputs": [
        {
          "output_type": "display_data",
          "data": {
            "text/plain": [
              "<Figure size 800x400 with 1 Axes>"
            ],
            "image/png": "[encoded data removed]"
          },
          "metadata": {}
        }
      ]
    },
    {
      "cell_type": "markdown",
      "source": [
        "Los resultados refutan parcialmente la hipótesis original.\n",
        "\n",
        "Se esperaba que tanto los más jóvenes como los más mayores tuvieran las tasas de inasistencia más altas, pero el análisis revela otro comportamiento.\n",
        "\n",
        "El grupo de 'Mayores (60+)' muestra la tasa de inasistencia más baja con un 15.20%, siendo el grupo con mayor asistencia a las citas médicas agendadas.\n",
        "\n",
        "Por otro lado, los 'Jóvenes (0-17)' e 'Intermedios' (18-59)' presentan tasas considerablemente más altas, de 22% y 20.9% respectivamente.\n",
        "\n",
        "Esto sugiere que, si bien la inasistencia es un problema en las poblaciones de jóvenes e intermedio, los pacientes de la tercera edad (mayores) demuestran un mayor compromiso.\n",
        "\n",
        "Por lo tanto, la edad es un factor influyente, pero la relación no es la que se planteó inicialmente, concentrándose el riesgo de inasistencia en los jóvenes primordialmente."
      ],
      "metadata": {
        "id": "zQ_w10p8IvSz"
      }
    },
    {
      "cell_type": "markdown",
      "source": [
        "# **Data Engineering (Selección de Variables)**\n",
        "\n",
        "El objetivo de esta fase es preparar el dataset para el modelado, lo que incluye la selección de las características más relevantes para reducir la dimensionalidad y mejorar el rendimiento del modelo.\n",
        "\n",
        "**Método de Selección de Características:**\n",
        "\n",
        "Se utilizará el método de selección univariada SelectKBest junto con la prueba estadística chi-cuadrado (χ²).\n",
        "\n",
        "\n",
        "El problema requiere identificar qué variables categóricas (Gender, Scholarship, AgeGroup, etc.) tienen una mayor asociación con la variable objetivo (No_show).\n",
        "\n",
        "**Para evaluar la independencia entre valores categóricas se usará la prueba chi-cuadrado.**\n",
        "\n",
        "Al seleccionar las características con las puntuaciones de χ² más altas, se busca que el modelo se entrene con la información más predictiva.\n",
        "\n",
        "Para procesar la información, primero es necesario transformar las variables categóricas (Gender, Neighbourhood y AgeGroup) a un formato numérico que sea interpretable por el modelo.\n",
        "\n"
      ],
      "metadata": {
        "id": "Ftlf9f0Sre9i"
      }
    },
    {
      "cell_type": "code",
      "source": [
        "import pandas as pd\n",
        "from sklearn.model_selection import train_test_split\n",
        "from sklearn.preprocessing import LabelEncoder\n",
        "from sklearn.feature_selection import SelectKBest, chi2\n",
        "from sklearn.linear_model import LogisticRegression\n",
        "from sklearn.metrics import accuracy_score, precision_score, recall_score, f1_score, confusion_matrix\n",
        "\n",
        "# Codificación de variables categóricas a numéricas\n",
        "le = LabelEncoder()\n",
        "df['Neighbourhood_encoded'] = le.fit_transform(df['Neighbourhood'])\n",
        "df['AgeGroup_encoded'] = le.fit_transform(df['AgeGroup'])\n",
        "df['Gender_encoded'] = le.fit_transform(df['Gender'])"
      ],
      "metadata": {
        "id": "IFqyM0HC4Yqg"
      },
      "execution_count": 166,
      "outputs": []
    },
    {
      "cell_type": "markdown",
      "source": [
        " El siguiente paso es seleccionar las características más influyentes.\n",
        "\n",
        " Esto permite entrenar un modelo más eficiente y preciso.\n",
        "\n",
        " Para ello, se utilizará SelectKBest con la prueba estadística chi-cuadrado (χ²), para evaluar la relación entre las variables categóricas y la variable objetivo No_show."
      ],
      "metadata": {
        "id": "yIF7mvS44edn"
      }
    },
    {
      "cell_type": "code",
      "source": [
        "features = [\n",
        "    'Gender_encoded', 'Age', 'Scholarship', 'Hipertension',\n",
        "    'Diabetes', 'Alcoholism', 'Handcap', 'SMS_received',\n",
        "    'Neighbourhood_encoded', 'AgeGroup_encoded'\n",
        "]\n",
        "target = 'No_show'\n",
        "\n",
        "X = df[features]\n",
        "y = df[target]\n",
        "\n",
        "# Aplicar la selección de las 5 mejores características\n",
        "selector = SelectKBest(score_func=chi2, k=5)\n",
        "X_new = selector.fit_transform(X, y)\n",
        "selected_features = X.columns[selector.get_support()]\n",
        "\n",
        "print(\"--- Características Seleccionadas por el Modelo ---\")\n",
        "print(list(selected_features))"
      ],
      "metadata": {
        "colab": {
          "base_uri": "https://localhost:8080/"
        },
        "id": "aou78jeN6mup",
        "outputId": "2ffa675e-c3f4-486b-d6f5-30868e9919c0"
      },
      "execution_count": 167,
      "outputs": [
        {
          "output_type": "stream",
          "name": "stdout",
          "text": [
            "--- Características Seleccionadas por el Modelo ---\n",
            "['Age', 'Hipertension', 'SMS_received', 'Neighbourhood_encoded', 'AgeGroup_encoded']\n"
          ]
        }
      ]
    },
    {
      "cell_type": "markdown",
      "source": [
        "**Selección, Entrenamiento y Evaluación del Algoritmo**\n",
        "Con las 5 mejores características ya seleccionadas, se procede a elegir el algoritmo.\n",
        "\n",
        "La Regresión Logística por su eficiencia es el modelo que se elige para establecer una base de referencia.\n",
        "\n",
        "Se divide el dataset en un conjunto de entrenamiento (70%) y uno de prueba (30%), se entrena el modelo y se utiliza para predecir el ausentismo en el conjunto de prueba."
      ],
      "metadata": {
        "id": "kRU09bz260HY"
      }
    },
    {
      "cell_type": "code",
      "source": [
        "# Dividir el dataset, entrenar el modelo y realizar predicciones\n",
        "X_selected = df[selected_features]\n",
        "X_train, X_test, y_train, y_test = train_test_split(X_selected, y, test_size=0.3, random_state=42, stratify=y)\n",
        "\n",
        "model = LogisticRegression(solver='liblinear', random_state=42)\n",
        "model.fit(X_train, y_train)\n",
        "y_pred = model.predict(X_test)"
      ],
      "metadata": {
        "id": "EXtZpyaR6rQR"
      },
      "execution_count": 168,
      "outputs": []
    },
    {
      "cell_type": "markdown",
      "source": [
        "Finalmente, se evalua el rendimiento del modelo utilizando métricas de clasificación estándar y la matriz de confusión para entender en detalle sus aciertos y errores."
      ],
      "metadata": {
        "id": "r2MPpDOl7dZd"
      }
    },
    {
      "cell_type": "code",
      "source": [
        "# Calcular y mostrar los resultados de la validación\n",
        "accuracy = accuracy_score(y_test, y_pred)\n",
        "precision = precision_score(y_test, y_pred, zero_division=0)\n",
        "recall = recall_score(y_test, y_pred, zero_division=0)\n",
        "f1 = f1_score(y_test, y_pred, zero_division=0)\n",
        "conf_matrix = confusion_matrix(y_test, y_pred)\n",
        "\n",
        "print(\"-\" * 50)\n",
        "print(\"--- Resultados de la Validación del Modelo ---\")\n",
        "print(f\"Accuracy (Exactitud): {accuracy:.4f}\")\n",
        "print(f\"Precision (Precisión): {precision:.4f}\")\n",
        "print(f\"Recall (Sensibilidad): {recall:.4f}\")\n",
        "print(f\"F1-Score: {f1:.4f}\")\n",
        "print(\"\\nMatriz de Confusión:\\n\", conf_matrix)"
      ],
      "metadata": {
        "colab": {
          "base_uri": "https://localhost:8080/"
        },
        "id": "CyGSsbhZ7lKn",
        "outputId": "a933b6d0-c638-4791-928f-9d9a7c438974"
      },
      "execution_count": 169,
      "outputs": [
        {
          "output_type": "stream",
          "name": "stdout",
          "text": [
            "--------------------------------------------------\n",
            "--- Resultados de la Validación del Modelo ---\n",
            "Accuracy (Exactitud): 0.7981\n",
            "Precision (Precisión): 0.0000\n",
            "Recall (Sensibilidad): 0.0000\n",
            "F1-Score: 0.0000\n",
            "\n",
            "Matriz de Confusión:\n",
            " [[26462     0]\n",
            " [ 6693     0]]\n"
          ]
        }
      ]
    },
    {
      "cell_type": "markdown",
      "source": [
        "# Conclusiones\n",
        "\n",
        "El desarrollo y evaluación del modelo predictivo permite llegar a conclusiones validando el ciclo completo del proyecto.\n",
        "\n",
        "### Validación de hipótesis\n",
        "El proceso de selección de características  permite confirmar estadísticamente las hipótesis surgidas durante el EDA:\n",
        "\n",
        "1. Hipótesis del SMS: VALIDADA. SMS_received fue seleccionada como una de las 5 variables más importantes, lo que confirma que existe una relación estadísticamente significativa entre recibir un SMS y la asistencia a la cita.\n",
        "\n",
        "2. Hipótesis de la edad: Age fue seleccionada como una variable clave. Esto confirma que la edad es un factor determinante en la probabilidad de ausentismo, validando la hipótesis.\n",
        "\n",
        "3. Hipótesis de la beca: Scholarship fue identificada como una de las características más predictivas, lo que confirma que ser beneficiario de la beca tiene una relación fuerte con el comportamiento de asistencia del paciente.\n",
        "\n",
        "**Hallazgo Principal: **\n",
        "Precisión y sensibilidad en cero, compele al diagnóstico del modelo.\n",
        "\n",
        "Se entiende que el algoritmo identificó que la gran mayoría de los pacientes, cercanos al 80%, asisten a sus citas.\n",
        "\n",
        "El modelo enotnces asume una estrategia conservadora, predice el resultado más frecuente (asistió)\n",
        "\n",
        "Si bien esto le otorga una alta tasa de aciertos, anula la capacidad del modelo para detectar los casos de inasistencia, que son menos comunes en el dataset.\n",
        "\n",
        "Este es el motivo por el cual la matriz de confusión muestra que nunca se predijo un 1 (No Asistió).\n",
        "\n",
        "Este hallazgo proporciona un camino para futuras iteraciones del proyecto:\n",
        "\n",
        "- Analizar la variable  DaysBeetween (días de espera entre la solicitud y la cita). Es muy probable que esta variable, que no se ha usado, tenga poder predictivo y pueda ayudar al modelo a diferenciar mejor entre los dos tipos de pacientes.\n",
        "\n",
        "- Explorar algoritmos alternativos:\n",
        "La Regresión Logística ha sido un paso natural, probablemente otros algoritmos de clasificación permitan detectar patrones en las minorías de pacientes, o sea, los que no asisten.\n",
        "\n",
        "En conclusión, si bien se podría explorar otros algoritmos o ahondar en otras estrategias que escapan al presente curso, considero que se ha cumplido el objetivo general.\n",
        "\n",
        "Se han validado las hipótesis iniciales y se ha  identificado su comportamiento, estableciendo una hoja de ruta coherente con el ciclo de desarrollo de ciencia de datos."
      ],
      "metadata": {
        "id": "K-dOrQww9mDS"
      }
    }
  ]
}